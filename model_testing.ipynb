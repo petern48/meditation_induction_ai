{
 "cells": [
  {
   "cell_type": "code",
   "execution_count": null,
   "metadata": {},
   "outputs": [],
   "source": [
    "# !pip install transformers accelerate einops xformers\n",
    "# install pytorch for your device"
   ]
  },
  {
   "cell_type": "code",
   "execution_count": null,
   "metadata": {},
   "outputs": [],
   "source": [
    "from transformers import AutoTokenizer, AutoModelForCausalLM\n",
    "import transformers\n",
    "import torch"
   ]
  },
  {
   "cell_type": "code",
   "execution_count": 3,
   "metadata": {},
   "outputs": [],
   "source": [
    "# Load the model from Hugging Face\n",
    "# Other models to consider testing: JosephusCheung/Guanaco\n",
    "\n",
    "# falcon_model = AutoModelForCausalLM.from_pretrained(\"tiiuae/falcon-7b-instruct\", trust_remove_code=True)\n",
    "\n",
    "tokenizer = AutoTokenizer.from_pretrained(\"tiiuae/falcon-7b-instruct\")\n",
    "pipeline = transformers.pipeline(\n",
    "    \"text-generation\",\n",
    "    model=\"tiiuae/falcon-7b-instruct\",\n",
    "    tokenizer=tokenizer,\n",
    "    torch_dtype=torch.bfloat16,\n",
    "    trust_remote_code=True,\n",
    "    device_map=\"auto\",\n",
    ")"
   ]
  },
  {
   "cell_type": "code",
   "execution_count": 2,
   "metadata": {},
   "outputs": [],
   "source": [
    "prompts = {\n",
    "    'focused': 'write me a focused meditation script designed to enhance focus and attention by noticing all 5 senses',\n",
    "    'body-scan': 'write me a body scan meditation script to relax and relieve stress by tightening and relaxing muscles',\n",
    "    'visualization': 'write me a visualization meditation script noticing all 5 senses at the beach/garden and is designed to boost mood, reduce stress, and promote inner peace',\n",
    "    'reflection': 'write me a reflection meditation script designed to increase self awareness, mindfulness, and gratitude by asking the user about the current day and the recent past',\n",
    "    'movement': 'write me a movement meditation script designed to improve mind body connection, energy, vitality, and the systems of the body'\n",
    "}\n",
    "PROMPT = prompts['movement']\n",
    "sequences = pipeline(\n",
    "    PROMPT,\n",
    "    max_length=200,\n",
    "    # max_new_tokens=1000,\n",
    "    do_sample=True,\n",
    "    top_k=10,\n",
    "    num_return_sequences=1,\n",
    "    eos_token_id=tokenizer.eos_token_id\n",
    ")\n",
    "for seq in sequences:\n",
    "    output = seq['generated_text']\n",
    "    # Remove the 1st line (prompt), from the string\n",
    "    print('output:', output)\n",
    "    response = '\\n'.join(output.split('\\n')[1:])\n",
    "    print(f\"Result: {response}\")"
   ]
  },
  {
   "cell_type": "code",
   "execution_count": null,
   "metadata": {},
   "outputs": [],
   "source": []
  },
  {
   "cell_type": "code",
   "execution_count": null,
   "metadata": {},
   "outputs": [],
   "source": [
    "# import transformers\n",
    "# from transformers import BloomForCausalLM\n",
    "# from transformers import BloomTokenizerFast\n",
    "# import torch\n",
    "\n",
    "# access_token = ''   # for hugging face token\n",
    "\n",
    "# model = BloomForCausalLM.from_pretrained(\"bigscience/bloom-1b3\", token=access_token)\n",
    "# tokenizer = BloomTokenizerFast.from_pretrained(\"bigscience/bloom-1b3\")\n",
    "\n",
    "# prompt = \"write me a body scan meditation script to relax and relieve stress by tightening and relaxing muscles\"\n",
    "# result_length = 50\n",
    "# inputs = tokenizer(prompt, return_tensors=\"pt\")\n",
    "\n",
    "# # Greedy Search\n",
    "# print(tokenizer.decode(model.generate(inputs[\"input_ids\"], \n",
    "#                        max_length=result_length\n",
    "#                       )[0]))"
   ]
  }
 ],
 "metadata": {
  "kernelspec": {
   "display_name": "med_ai",
   "language": "python",
   "name": "python3"
  },
  "language_info": {
   "codemirror_mode": {
    "name": "ipython",
    "version": 3
   },
   "file_extension": ".py",
   "mimetype": "text/x-python",
   "name": "python",
   "nbconvert_exporter": "python",
   "pygments_lexer": "ipython3",
   "version": "3.11.4"
  },
  "orig_nbformat": 4
 },
 "nbformat": 4,
 "nbformat_minor": 2
}
