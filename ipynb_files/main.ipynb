{
 "cells": [
  {
   "cell_type": "code",
   "execution_count": 2,
   "metadata": {},
   "outputs": [],
   "source": [
    "# %pip install python-dotenv\n",
    "# %pip install gTTS\n",
    "# %pip install pyttsx3\n",
    "# %pip install openai\n",
    "# # Install pytorch for your machine\n",
    "# %pip install torch torchvision torchaudio --index-url https://download.pytorch.org/whl/cu118\n",
    "# %pip install pydub\n",
    "# To get pydub to work, may need to   sudo apt install ffmpeg\n",
    "# %pip install transformers\n",
    "# %pip install xformers"
   ]
  },
  {
   "cell_type": "code",
   "execution_count": 1,
   "metadata": {},
   "outputs": [
    {
     "name": "stderr",
     "output_type": "stream",
     "text": [
      "/home/petern/miniconda3/envs/med_ai/lib/python3.11/site-packages/tqdm/auto.py:21: TqdmWarning: IProgress not found. Please update jupyter and ipywidgets. See https://ipywidgets.readthedocs.io/en/stable/user_install.html\n",
      "  from .autonotebook import tqdm as notebook_tqdm\n"
     ]
    }
   ],
   "source": [
    "import os\n",
    "from dotenv import load_dotenv\n",
    "import pyttsx3\n",
    "from gtts import gTTS\n",
    "# from playsound import playsound\n",
    "import openai\n",
    "import torch\n",
    "import numpy as np\n",
    "import math\n",
    "import time\n",
    "from pydub import AudioSegment\n",
    "# import transformers\n",
    "# from transformers import AutoTokenizer, AutoModelForCausalLM, AutoConfig\n",
    "import re"
   ]
  },
  {
   "cell_type": "code",
   "execution_count": 2,
   "metadata": {},
   "outputs": [],
   "source": [
    "device = \"cuda\" if torch.cuda.is_available() else \"cpu\""
   ]
  },
  {
   "cell_type": "code",
   "execution_count": 3,
   "metadata": {},
   "outputs": [],
   "source": [
    "# Not Currently in Use Yet\n",
    "# load_dotenv()\n",
    "# OPENAI_API_KEY = os.getenv(\"OPENAI_API_KEY\")\n",
    "# openai.api_key = OPENAI_API_KEY\n",
    "def chatgbt(prompt):\n",
    "    response = openai.ChatCompletion.create(\n",
    "        model=\"gpt-3.5-turbo\",\n",
    "        prompt=prompt,\n",
    "        max_tokens=100\n",
    "    )\n",
    "    # message = response.choices[0].text.strip()\n",
    "    return response"
   ]
  },
  {
   "cell_type": "code",
   "execution_count": 5,
   "metadata": {},
   "outputs": [],
   "source": [
    "# Just reads meditation scripts from .txt file for now\n",
    "FILE_NAME = \"body-scan-gpt.txt\"  # Might incorporate file name as cmd line argument later\n",
    "SCRIPTS_DIR_NAME = \"meditation_scripts\"\n",
    "\n",
    "def get_text():\n",
    "    \"\"\"Read text from the indicated .txt file\"\"\"\n",
    "    curr_path = os.getcwd()\n",
    "    dir_path = os.path.join(curr_path, SCRIPTS_DIR_NAME)\n",
    "    file_path = os.path.join(dir_path, FILE_NAME)\n",
    "    with open(file_path, \"r\") as f:\n",
    "        unparsed_text = f.read()\n",
    "\n",
    "    # Remove the text without brackets\n",
    "    meditation_script = re.sub(r'\\[.*?\\]', '', unparsed_text)\n",
    "    \n",
    "    # Need to clean out the brief bracketed pauses\n",
    "    return meditation_script"
   ]
  },
  {
   "cell_type": "code",
   "execution_count": 6,
   "metadata": {},
   "outputs": [],
   "source": [
    "GTTS_DIR_NAME = 'gtts-voices'\n",
    "\n",
    "def text_to_speech(meditation_script):\n",
    "    # gTTS implementation\n",
    "\n",
    "    # List of accents available\n",
    "    accents = ['com.au', 'co.uk', 'us', 'ca', 'co.in', 'ie', 'co.za']\n",
    "    speech_file_names = []\n",
    "\n",
    "    for accent in accents:\n",
    "        speech_file_name = f\"gtts-{accent}.mp3\"\n",
    "\n",
    "        # Add longer pause after every period\n",
    "        segments = meditation_script.split('. ')\n",
    "        pause = AudioSegment.silent(duration=2000)  # milliseconds\n",
    "        speech_audio = AudioSegment.empty()\n",
    "        for segment in segments:\n",
    "            # Create the TTS object\n",
    "            tts = gTTS(segment,\n",
    "                    tld=accent,    # Indian voice sounded the most soothing\n",
    "                    lang=\"en\",\n",
    "                    slow=True\n",
    "                    )\n",
    "            tts.save('segment.mp3')\n",
    "            segment_audio = AudioSegment.from_mp3('segment.mp3')\n",
    "            speech_audio += segment_audio + pause\n",
    "\n",
    "        # Save the audio file\n",
    "        print(f\"Saving {speech_file_name} audio file\")\n",
    "        path = os.path.join(GTTS_DIR_NAME, speech_file_name)\n",
    "        speech_audio.export(path, format='mp3')\n",
    "\n",
    "        speech_file_names.append(speech_file_name)\n",
    "\n",
    "        os.remove('segment.mp3')  # Remove the temporary file\n",
    "        \n",
    "    return speech_file_names"
   ]
  },
  {
   "cell_type": "code",
   "execution_count": 7,
   "metadata": {},
   "outputs": [],
   "source": [
    "PYTTSX3_DIR_NAME = 'pyttsx3-voices'\n",
    "\n",
    "def text_to_speech_pyttsx3(meditation_script):\n",
    "    # pyttsx3 implementation\n",
    "\n",
    "    engine = pyttsx3.init() # object creation\n",
    "    engine.setProperty('voice', 'en-us')\n",
    "    rate = engine.getProperty('rate')   # getting details of current speaking rate\n",
    "    engine.setProperty('rate', 125)     # setting up new voice rate\n",
    "    volume = engine.getProperty('volume')   # getting to know current volume level (min=0 and max=1)\n",
    "    engine.setProperty('volume', 1.0)    # setting up volume level  between 0 and 1\n",
    "    engine.setProperty('pitch', 0.8)\n",
    "\n",
    "    # Listen to events ??\n",
    "\n",
    "    # Listen to different voices (only 2 options??) \n",
    "    # voices = engine.getProperty(\"voices\")\n",
    "    # for voice in voices:\n",
    "        # engine.setProperty(\"voice\", voice.id)\n",
    "    #     print(f\"voice id {voice.id}\")\n",
    "    #     engine.say(\"Hello\")\n",
    "    # engine.runAndWait()\n",
    "\n",
    "    # Save to audio file\n",
    "    print(\"Saving pyttsx3 audio file\")\n",
    "    engine.save_to_file(meditation_script, os.path.join(PYTTSX3_DIR_NAME, 'pyttsx3.mp3'))\n",
    "    engine.runAndWait()\n",
    "    engine.stop()"
   ]
  },
  {
   "cell_type": "code",
   "execution_count": 20,
   "metadata": {},
   "outputs": [],
   "source": [
    "GTTS_DIR_NAME = 'gtts-voices'\n",
    "\n",
    "def overlay_music_and_speech(path_to_file, speech_file_name):\n",
    "    \"\"\"Add background music to speech\"\"\"\n",
    "    \n",
    "    music1 = AudioSegment.from_mp3(\"music-only1.mp3\")\n",
    "    speech = AudioSegment.from_mp3(os.path.join(path_to_file, speech_file_name))\n",
    "    times_to_repeat = len(speech) / len(music1)\n",
    "    # Lengthen music so it is at least the length of speech audio\n",
    "    longer_music = AudioSegment.empty()\n",
    "    for _ in range(math.ceil(times_to_repeat)):\n",
    "        longer_music += music1\n",
    "\n",
    "    combined = speech.overlay(longer_music)\n",
    "    combined.export(f\"full-{speech_file_name}\", format=\"mp3\")"
   ]
  },
  {
   "cell_type": "code",
   "execution_count": 12,
   "metadata": {},
   "outputs": [],
   "source": [
    "# def main():\n",
    "meditation_script = get_text()"
   ]
  },
  {
   "cell_type": "code",
   "execution_count": 13,
   "metadata": {},
   "outputs": [
    {
     "name": "stdout",
     "output_type": "stream",
     "text": [
      "Saving gtts-com.au.mp3 audio file\n",
      "Saving gtts-co.uk.mp3 audio file\n",
      "Saving gtts-us.mp3 audio file\n",
      "Saving gtts-ca.mp3 audio file\n",
      "Saving gtts-co.in.mp3 audio file\n",
      "Saving gtts-ie.mp3 audio file\n",
      "Saving gtts-co.za.mp3 audio file\n"
     ]
    }
   ],
   "source": [
    "speech_file_names = text_to_speech(meditation_script)"
   ]
  },
  {
   "cell_type": "code",
   "execution_count": 21,
   "metadata": {},
   "outputs": [
    {
     "name": "stdout",
     "output_type": "stream",
     "text": [
      "Saving combined audio\n"
     ]
    }
   ],
   "source": [
    "# Add music to background of speech\n",
    "path_to_file = GTTS_DIR_NAME\n",
    "overlay_music_and_speech(path_to_file, speech_file_names[4])  # for just the indian accent audio for now"
   ]
  },
  {
   "cell_type": "code",
   "execution_count": null,
   "metadata": {},
   "outputs": [],
   "source": [
    "# if __name__ == \"__main__\":\n",
    "#     main()"
   ]
  }
 ],
 "metadata": {
  "kernelspec": {
   "display_name": "Python 3",
   "language": "python",
   "name": "python3"
  },
  "language_info": {
   "codemirror_mode": {
    "name": "ipython",
    "version": 3
   },
   "file_extension": ".py",
   "mimetype": "text/x-python",
   "name": "python",
   "nbconvert_exporter": "python",
   "pygments_lexer": "ipython3",
   "version": "3.11.4"
  },
  "orig_nbformat": 4
 },
 "nbformat": 4,
 "nbformat_minor": 2
}
