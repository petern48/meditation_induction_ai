{
 "cells": [
  {
   "cell_type": "code",
   "execution_count": 1,
   "metadata": {},
   "outputs": [],
   "source": [
    "# %pip install python-dotenv\n",
    "# %pip install gTTS\n",
    "# %pip install openai\n",
    "# # Install pytorch for your machine\n",
    "# %pip install torch torchvision torchaudio --index-url https://download.pytorch.org/whl/cu118\n",
    "# %pip install pydub\n",
    "# To get pydub to work, may need to   sudo apt install ffmpeg\n",
    "# %pip install transformers\n",
    "# %pip install xformers"
   ]
  },
  {
   "cell_type": "code",
   "execution_count": 35,
   "metadata": {},
   "outputs": [],
   "source": [
    "import os\n",
    "from dotenv import load_dotenv\n",
    "# import pyttsx3  # text to speech\n",
    "from gtts import gTTS\n",
    "import gtts\n",
    "# from playsound import playsound\n",
    "import openai\n",
    "import torch\n",
    "import numpy as np\n",
    "import math\n",
    "from pydub import AudioSegment\n",
    "from pydub.silence import detect_leading_silence\n",
    "import transformers\n",
    "import re"
   ]
  },
  {
   "cell_type": "code",
   "execution_count": 3,
   "metadata": {},
   "outputs": [],
   "source": [
    "device = \"cuda\" if torch.cuda.is_available() else \"cpu\""
   ]
  },
  {
   "cell_type": "code",
   "execution_count": 4,
   "metadata": {},
   "outputs": [],
   "source": [
    "# Not Currently in Use Yet\n",
    "# load_dotenv()\n",
    "# OPENAI_API_KEY = os.getenv(\"OPENAI_API_KEY\")\n",
    "# openai.api_key = OPENAI_API_KEY\n",
    "def chatgbt(prompt):\n",
    "    response = openai.ChatCompletion.create(\n",
    "        model=\"gpt-3.5-turbo\",\n",
    "        prompt=prompt,\n",
    "        max_tokens=100\n",
    "    )\n",
    "    # message = response.choices[0].text.strip()\n",
    "    return response"
   ]
  },
  {
   "cell_type": "code",
   "execution_count": 17,
   "metadata": {},
   "outputs": [],
   "source": [
    "# Load the model\n",
    "# MODEL_NAME = 'tiiuae/falcon-7b-instruct'\n",
    "# 'gpt2'\n",
    "# 'caffsean/t5-large-finetune-keyword-to-text-generation'  Bad\n",
    "# MODEL_NAME = 'teknium/Replit-v2-CodeInstruct-3B'\n",
    "# generator = transformers.pipeline('text-generation',\n",
    "#                                   model=MODEL_NAME,\n",
    "#                                   trust_remote_code=True,\n",
    "#                                   device='cpu'\n",
    "#                                   )"
   ]
  },
  {
   "cell_type": "code",
   "execution_count": 7,
   "metadata": {},
   "outputs": [],
   "source": [
    "# # Models from hugging face\n",
    "# PROMPT = \"Write me a meditation script\"\n",
    "# def generate_text():\n",
    "#     return generator(PROMPT, num_return_sequences=3)  # max_length=1000\n",
    "\n",
    "# # generate_text()"
   ]
  },
  {
   "cell_type": "code",
   "execution_count": 8,
   "metadata": {},
   "outputs": [],
   "source": [
    "# Just reads meditation scripts from .txt file for now\n",
    "FILE_NAME = \"body-scan-gpt.txt\"  # Might incorporate file name as cmd line argument later\n",
    "DIRECTORY_NAME = \"meditation_scripts\"\n",
    "\n",
    "def get_text():\n",
    "    curr_path = os.getcwd()\n",
    "    dir_path = os.path.join(curr_path, DIRECTORY_NAME)\n",
    "    file_path = os.path.join(dir_path, FILE_NAME)\n",
    "    with open(file_path, \"r\") as f:\n",
    "        unparsed_text = f.read()\n",
    "\n",
    "    # Remove the text without brackets\n",
    "    meditation_script = re.sub(r'\\[.*?\\]', '', unparsed_text)\n",
    "    \n",
    "    # Need to clean out the brief bracketed pauses\n",
    "    return meditation_script"
   ]
  },
  {
   "cell_type": "code",
   "execution_count": 24,
   "metadata": {},
   "outputs": [],
   "source": [
    "def text_to_speech(meditation_script):\n",
    "    # gTTS implementation\n",
    "    # speech_file_name = \"speech-only1.mp3\"\n",
    "\n",
    "    # List of accents available\n",
    "    accents = ['com.au', 'co.uk', 'us', 'ca', 'co.in', 'ie', 'co.za']\n",
    "    speech_file_names = []\n",
    "\n",
    "    for accent in accents:\n",
    "        speech_file_name = f\"gtts-{accent}.mp3\"\n",
    "\n",
    "        # Add longer pause after every period\n",
    "        segments = meditation_script.split('. ')\n",
    "        pause = AudioSegment.silent(duration=2000)  # milliseconds\n",
    "        speech_audio = AudioSegment.empty()\n",
    "        for segment in segments:\n",
    "            # Create the TTS object\n",
    "            tts = gTTS(segment,\n",
    "                    tld=accent,    # Indian voice sounded the most soothing\n",
    "                    lang=\"en\",\n",
    "                    slow=True\n",
    "                    )\n",
    "            tts.save('segment.mp3')\n",
    "            segment_audio = AudioSegment.from_mp3('segment.mp3')\n",
    "            speech_audio += segment_audio + pause\n",
    "\n",
    "        # Save the audio file\n",
    "        print(f\"Saving {speech_file_name} audio file\")\n",
    "        path = os.path.join('gtts-voices', speech_file_name)\n",
    "        speech_audio.export(path, format='mp3')\n",
    "\n",
    "        speech_file_names.append(speech_file_name)\n",
    "\n",
    "        os.remove('segment.mp3')  # Remove the temporary file\n",
    "        \n",
    "    return speech_file_names\n",
    "\n",
    "    # pyttsx3 implementation\n",
    "\n",
    "    # engine = pyttsx3.init() # object creation\n",
    "    # rate = engine.getProperty('rate')   # getting details of current speaking rate\n",
    "    # engine.setProperty('rate', 125)     # setting up new voice rate\n",
    "    # volume = engine.getProperty('volume')   #getting to know current volume level (min=0 and max=1)\n",
    "    # engine.setProperty('volume',1.0)    # setting up volume level  between 0 and 1\n",
    "    # print(\"Saying script\")\n",
    "    # # engine.say(\"meditation_script\")\n",
    "\n",
    "    # Listen to different voices (only 2 options??) \n",
    "    # voices = engine.getProperty(\"voices\")\n",
    "    # engine.setProperty(\"voice\", voices[1].id)  # Female voice sounded nicer\n",
    "    # for voice in voices:\n",
    "        # engine.setProperty(\"voice\", voice.id)\n",
    "    #     print(f\"voice id {voice.id}\")\n",
    "    #     engine.say(\"Hello\")\n",
    "    # engine.runAndWait()\n",
    "\n",
    "    # # Save to audio file\n",
    "    # print(\"Saving pyttsx3 audio file\")\n",
    "    # engine.save_to_file(meditation_script, 'pyttsx3.mp3')\n",
    "    # engine.runAndWait()"
   ]
  },
  {
   "cell_type": "code",
   "execution_count": 25,
   "metadata": {},
   "outputs": [],
   "source": [
    "DIR_NAME = 'music_only'\n",
    "\n",
    "def overlay_music_and_speech(speech_file_name):\n",
    "    # Add music to speech\n",
    "\n",
    "    music1 = AudioSegment.from_mp3(os.path.join(DIR_NAME, \"music-only1.mp3\"))\n",
    "    speech = AudioSegment.from_mp3(speech_file_name)\n",
    "    times_to_repeat = len(speech) / len(music1)\n",
    "    # Lengthen music so it is at least the length of speech audio\n",
    "    longer_music = AudioSegment.empty()\n",
    "    for _ in range(math.ceil(times_to_repeat)):\n",
    "        longer_music += music1\n",
    "\n",
    "    combined = speech.overlay(longer_music)\n",
    "    print(\"Saving combined audio\")\n",
    "    combined.export(f\"full-{speech_file_name}\", format=\"mp3\")"
   ]
  },
  {
   "cell_type": "code",
   "execution_count": 32,
   "metadata": {},
   "outputs": [],
   "source": [
    "# def main():\n",
    "meditation_script = get_text()"
   ]
  },
  {
   "cell_type": "code",
   "execution_count": 34,
   "metadata": {},
   "outputs": [],
   "source": [
    "speech_file_names = text_to_speech(meditation_script)"
   ]
  },
  {
   "cell_type": "code",
   "execution_count": 31,
   "metadata": {},
   "outputs": [
    {
     "ename": "NameError",
     "evalue": "name 'speech_file_names' is not defined",
     "output_type": "error",
     "traceback": [
      "\u001b[0;31m---------------------------------------------------------------------------\u001b[0m",
      "\u001b[0;31mNameError\u001b[0m                                 Traceback (most recent call last)",
      "Cell \u001b[0;32mIn[31], line 1\u001b[0m\n\u001b[0;32m----> 1\u001b[0m overlay_music_and_speech(speech_file_names[\u001b[39m4\u001b[39m])  \u001b[39m# Overlay music for just the indian accent audio\u001b[39;00m\n",
      "\u001b[0;31mNameError\u001b[0m: name 'speech_file_names' is not defined"
     ]
    }
   ],
   "source": [
    "overlay_music_and_speech(speech_file_names[4])  # Overlay music for just the indian accent audio"
   ]
  },
  {
   "cell_type": "code",
   "execution_count": 29,
   "metadata": {},
   "outputs": [
    {
     "ename": "NameError",
     "evalue": "name 'speech_file_names' is not defined",
     "output_type": "error",
     "traceback": [
      "\u001b[0;31m---------------------------------------------------------------------------\u001b[0m",
      "\u001b[0;31mNameError\u001b[0m                                 Traceback (most recent call last)",
      "Cell \u001b[0;32mIn[29], line 2\u001b[0m\n\u001b[1;32m      1\u001b[0m \u001b[39mif\u001b[39;00m \u001b[39m__name__\u001b[39m \u001b[39m==\u001b[39m \u001b[39m\"\u001b[39m\u001b[39m__main__\u001b[39m\u001b[39m\"\u001b[39m:\n\u001b[0;32m----> 2\u001b[0m     main()\n",
      "Cell \u001b[0;32mIn[28], line 4\u001b[0m, in \u001b[0;36mmain\u001b[0;34m()\u001b[0m\n\u001b[1;32m      1\u001b[0m \u001b[39mdef\u001b[39;00m \u001b[39mmain\u001b[39m():\n\u001b[1;32m      2\u001b[0m     \u001b[39m# meditation_script = get_text()\u001b[39;00m\n\u001b[1;32m      3\u001b[0m     \u001b[39m# speech_file_names = text_to_speech(meditation_script)\u001b[39;00m\n\u001b[0;32m----> 4\u001b[0m     overlay_music_and_speech(speech_file_names[\u001b[39m4\u001b[39m])\n",
      "\u001b[0;31mNameError\u001b[0m: name 'speech_file_names' is not defined"
     ]
    }
   ],
   "source": [
    "# if __name__ == \"__main__\":\n",
    "#     main()"
   ]
  },
  {
   "cell_type": "code",
   "execution_count": null,
   "metadata": {},
   "outputs": [],
   "source": []
  }
 ],
 "metadata": {
  "kernelspec": {
   "display_name": "Python 3",
   "language": "python",
   "name": "python3"
  },
  "language_info": {
   "codemirror_mode": {
    "name": "ipython",
    "version": 3
   },
   "file_extension": ".py",
   "mimetype": "text/x-python",
   "name": "python",
   "nbconvert_exporter": "python",
   "pygments_lexer": "ipython3",
   "version": "3.11.4"
  },
  "orig_nbformat": 4
 },
 "nbformat": 4,
 "nbformat_minor": 2
}
