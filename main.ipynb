{
 "cells": [
  {
   "cell_type": "code",
   "execution_count": 2,
   "metadata": {},
   "outputs": [],
   "source": [
    "# %pip install python-dotenv\n",
    "# %pip install gTTS\n",
    "# %pip install openai\n",
    "# %pip install torch torchvision torchaudio\n",
    "# %pip install torch torchvision torchaudio --index-url https://download.pytorch.org/whl/cpu  # For Linux CPU\n",
    "# %pip install pydub\n",
    "# Don't Install this %pip install TTS\n",
    "# To get pydub to work, may need to   sudo apt install ffmpeg"
   ]
  },
  {
   "cell_type": "code",
   "execution_count": 20,
   "metadata": {},
   "outputs": [],
   "source": [
    "import os\n",
    "from dotenv import load_dotenv\n",
    "# import pyttsx3  # text to speech\n",
    "from gtts import gTTS\n",
    "# from playsound import playsound\n",
    "import openai\n",
    "import torch\n",
    "import numpy as np\n",
    "import math\n",
    "from pydub import AudioSegment"
   ]
  },
  {
   "cell_type": "code",
   "execution_count": 4,
   "metadata": {},
   "outputs": [],
   "source": [
    "# load_dotenv()\n",
    "# OPENAI_API_KEY = os.getenv(\"OPENAI_API_KEY\")\n",
    "# openai.api_key = OPENAI_API_KEY\n",
    "\n",
    "def chatgbt(prompt):\n",
    "    response = openai.ChatCompletion.create(\n",
    "        model=\"gpt-3.5-turbo\",\n",
    "        prompt=prompt,\n",
    "        max_tokens=100\n",
    "    )\n",
    "    # message = response.choices[0].text.strip()\n",
    "    return response"
   ]
  },
  {
   "cell_type": "code",
   "execution_count": 5,
   "metadata": {},
   "outputs": [],
   "source": [
    "FILE_NAME = \"chatgpt-script1.txt\"\n",
    "\n",
    "def generate_text():\n",
    "    # Just read scripts from .txt file for now\n",
    "    curr_path = os.getcwd()\n",
    "    dir_path = os.path.join(curr_path, \"meditation_scripts\")\n",
    "    file_path = os.path.join(dir_path, FILE_NAME)\n",
    "    with open(file_path, \"r\") as f:\n",
    "        meditation_script = f.read()\n",
    "\n",
    "    # Need to clean out the brief bracketed pauses\n",
    "    return meditation_script"
   ]
  },
  {
   "cell_type": "code",
   "execution_count": 29,
   "metadata": {},
   "outputs": [],
   "source": [
    "def text_to_speech(meditation_script):\n",
    "    speech_file_name = \"speech-only1.mp3\"\n",
    "    # gTTS implementation\n",
    "\n",
    "    # Create the TTS object\n",
    "    tts = gTTS(meditation_script, \n",
    "               tld=\"co.in\",    # Indian voice sounded nicer\n",
    "               lang=\"en\",\n",
    "               slow=True\n",
    "    )\n",
    "\n",
    "    # Save the audio file\n",
    "    print(\"Saving gtts audio file\")\n",
    "    tts.save(speech_file_name)\n",
    "\n",
    "    return speech_file_name\n",
    "\n",
    "    # pyttsx3 implementation\n",
    "\n",
    "    # engine = pyttsx3.init() # object creation\n",
    "    # rate = engine.getProperty('rate')   # getting details of current speaking rate\n",
    "    # engine.setProperty('rate', 125)     # setting up new voice rate\n",
    "    # volume = engine.getProperty('volume')   #getting to know current volume level (min=0 and max=1)\n",
    "    # engine.setProperty('volume',1.0)    # setting up volume level  between 0 and 1\n",
    "    # print(\"Saying script\")\n",
    "    # # engine.say(\"meditation_script\")\n",
    "\n",
    "    # Listen to different voices (only 2 options??) \n",
    "    # voices = engine.getProperty(\"voices\")\n",
    "    # engine.setProperty(\"voice\", voices[1].id)  # Female voice sounded nicer\n",
    "    # for voice in voices:\n",
    "        # engine.setProperty(\"voice\", voice.id)\n",
    "    #     print(f\"voice id {voice.id}\")\n",
    "    #     engine.say(\"Hello\")\n",
    "    # engine.runAndWait()\n",
    "\n",
    "    # # Save to audio file\n",
    "    # print(\"Saving pyttsx3 audio file\")\n",
    "    # engine.save_to_file(meditation_script, 'pyttsx3.mp3')\n",
    "    # engine.runAndWait()"
   ]
  },
  {
   "cell_type": "code",
   "execution_count": 37,
   "metadata": {},
   "outputs": [],
   "source": [
    "def overlay_music_and_speech(speech_file_name):\n",
    "    # Add music to speech\n",
    "    music1 = AudioSegment.from_mp3(\"music-only1.mp3\")\n",
    "    speech = AudioSegment.from_mp3(speech_file_name)\n",
    "    times_to_repeat = len(speech) / len(music1)\n",
    "    # Lengthen music so it is at least the length of speech audio\n",
    "    longer_music = AudioSegment.empty()\n",
    "    for i in range(math.ceil(times_to_repeat)):\n",
    "        longer_music += music1\n",
    "\n",
    "    combined = speech.overlay(longer_music)\n",
    "    print(\"Saving combined audio\")\n",
    "    combined.export(\"meditation-audio1.mp3\", format=\"mp3\")"
   ]
  },
  {
   "cell_type": "code",
   "execution_count": null,
   "metadata": {},
   "outputs": [],
   "source": []
  },
  {
   "cell_type": "code",
   "execution_count": 35,
   "metadata": {},
   "outputs": [],
   "source": [
    "def main():\n",
    "    meditation_script = generate_text()\n",
    "    speech_file_name = text_to_speech(meditation_script)\n",
    "    overlay_music_and_speech(speech_file_name)"
   ]
  },
  {
   "cell_type": "code",
   "execution_count": 38,
   "metadata": {},
   "outputs": [
    {
     "name": "stdout",
     "output_type": "stream",
     "text": [
      "Saving gtts audio file\n",
      "Saving combined audio\n"
     ]
    }
   ],
   "source": [
    "if __name__ == \"__main__\":\n",
    "    main()"
   ]
  }
 ],
 "metadata": {
  "kernelspec": {
   "display_name": "Python 3",
   "language": "python",
   "name": "python3"
  },
  "language_info": {
   "codemirror_mode": {
    "name": "ipython",
    "version": 3
   },
   "file_extension": ".py",
   "mimetype": "text/x-python",
   "name": "python",
   "nbconvert_exporter": "python",
   "pygments_lexer": "ipython3",
   "version": "3.11.4"
  },
  "orig_nbformat": 4
 },
 "nbformat": 4,
 "nbformat_minor": 2
}
