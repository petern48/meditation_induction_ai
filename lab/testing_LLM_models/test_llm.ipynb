{
 "cells": [
  {
   "cell_type": "code",
   "execution_count": 1,
   "metadata": {
    "id": "-RHV94XWm3yJ"
   },
   "outputs": [],
   "source": [
    "# !pip install -q accelerate==0.21.0 transformers==4.31.0 xformers bitsandbytes==0.40.2  # peft==0.4.0\n",
    "# !pip install einops  # for falcon model\n",
    "# !pip install torch"
   ]
  },
  {
   "cell_type": "code",
   "execution_count": 2,
   "metadata": {
    "id": "RICmsfeynOEx"
   },
   "outputs": [],
   "source": [
    "from transformers import AutoModelForCausalLM, AutoTokenizer, pipeline, logging, BitsAndBytesConfig\n",
    "import torch, re\n",
    "\n",
    "logging.set_verbosity(logging.CRITICAL)"
   ]
  },
  {
   "cell_type": "code",
   "execution_count": 3,
   "metadata": {},
   "outputs": [
    {
     "name": "stdout",
     "output_type": "stream",
     "text": [
      "{'': 0}\n"
     ]
    }
   ],
   "source": [
    "llama2 = 'NousResearch/Llama-2-7b-chat-hf'\n",
    "falcon7b = 'tiiuae/falcon-7b-instruct'\n",
    "\n",
    "# Load the entire model on the GPU 0\n",
    "DEVICE = {\"\": 0}  # or try 'auto'\n",
    "print(DEVICE)"
   ]
  },
  {
   "cell_type": "code",
   "execution_count": 4,
   "metadata": {},
   "outputs": [],
   "source": [
    "def load_model(model_name):\n",
    "    # NOTE: BitsAndBytesConfig might be unnecessary. I used it as an attempt to get falcon to load in colab.\n",
    "    bnb_config = BitsAndBytesConfig(\n",
    "        load_in_4bit=True,\n",
    "        bnb_4bit_compute_dtype=torch.float16,\n",
    "        bnb_4bit_quant_type=\"nf4\",\n",
    "        bnb_4bit_use_double_quant=True,\n",
    "    )\n",
    "\n",
    "    model = AutoModelForCausalLM.from_pretrained(\n",
    "        model_name,\n",
    "        low_cpu_mem_usage=True,  # Auto set to true when specifying device_map\n",
    "        return_dict=True,\n",
    "        torch_dtype=torch.float16,\n",
    "        device_map=DEVICE,  # device_map\n",
    "        trust_remote_code=True,\n",
    "        quantization_config=bnb_config\n",
    "        # load_in_4bit=True,  # unsure if this should maybe help with loading it\n",
    "    )\n",
    "\n",
    "    tokenizer = AutoTokenizer.from_pretrained(model_name, trust_remote_code=True)\n",
    "    tokenizer.pad_token = tokenizer.eos_token\n",
    "    tokenizer.padding_side = \"right\"\n",
    "    \n",
    "    return model, tokenizer\n",
    "\n",
    "    \n",
    "def predict_model(model, tokenizer, med_type, context):\n",
    "    # Run text generation pipeline with our next model\n",
    "    prompt = f\"Write me a {med_type} meditation script of about 200 words which {GOALS[med_type]}\"\n",
    "\n",
    "    if model_name == llama2:\n",
    "        tokenized_prompt = f\"\"\"<s>[INST] <<SYS>>\\n{context}\\n<</SYS>>\\n\\n{prompt} [/INST]\"\"\"\n",
    "    elif model_name == falcon7b:\n",
    "        # Do not have a stray space at end of it will mess with tokenization\n",
    "        tokenized_prompt = f\"\"\"### Instruction:\\n{prompt}\\n\\n### Context:\\n{context}\\n\\n### Response:\"\"\"\n",
    "    else:\n",
    "        raise Exception('Invalid model name')\n",
    "\n",
    "    encodeds = tokenizer(tokenized_prompt, return_tensors=\"pt\", add_special_tokens=False)\n",
    "    model_inputs = encodeds.to(\"cuda:0\")\n",
    "\n",
    "    generated_ids = model.generate(\n",
    "        **model_inputs,\n",
    "        max_new_tokens=32768,\n",
    "        top_p=0.95,  # Added. Seems to work!\n",
    "        top_k=1000,  # Added\n",
    "        do_sample=True)\n",
    "    # print('encoded\\n', generated_ids)\n",
    "    decoded = tokenizer.batch_decode(generated_ids, skip_special_tokens=True)\n",
    "    # print('Prompt: ', tokenized_prompt, '\\n')\n",
    "    output = decoded[0]\n",
    "    \n",
    "    # Extract the actual script (remove the prompt)\n",
    "    if model_name == llama2:\n",
    "        script = re.sub(r'[\\s\\S]*\\[/INST\\].*', '', output).lstrip()\n",
    "        # ^ Any char followed by [/INST] followed by any non-newline char (.*)\n",
    "        # The rest of the line usually says 'Great! Here's a meditation script that ...\n",
    "        print(f'### PROMPT:\\n{tokenized_prompt}\\n\\n')\n",
    "    else:  # model_name == falcon7b:\n",
    "        script = re.sub(r'.*### Response:', '', output)\n",
    "\n",
    "    # If response did not end in full sentence, remove the last substring that does not end in a period\n",
    "    last_period_idx = script.rfind('.')\n",
    "    if last_period_idx != -1:\n",
    "        script = script[:last_period_idx + 1]  # + 1 to keep the period\n",
    "\n",
    "    # print(output)\n",
    "    # print('\\n\\nSEPARATION')\n",
    "    print('Context:\\n', context, '\\n')\n",
    "    print('Transcript\\n', script)"
   ]
  },
  {
   "cell_type": "markdown",
   "metadata": {},
   "source": [
    "#### Setting parameters"
   ]
  },
  {
   "cell_type": "markdown",
   "metadata": {},
   "source": [
    "Change MED_TYPE to any key in the `goals` dictionary. If you'd like, you can add 'goals' as the values to incorporate into the prompt. You can also leave them empty and it should run fine.  \n",
    "Also you can set CONTEXT to a string that a user would provide to our LLM. There are already some commented examples."
   ]
  },
  {
   "cell_type": "code",
   "execution_count": 5,
   "metadata": {
    "id": "dGfHUg0hnZEJ"
   },
   "outputs": [],
   "source": [
    "GOALS = {\n",
    "    'mindful observation': 'emphasizes the practice of mindfully observing oneself in a state of stillness, which includes lying meditation, sitting in silence, and observing thoughts and emotions.',\n",
    "    'body-centered meditation': 'focuses on heightened awareness of the body, breath, and sensory perceptions, sometimes involving concentration on specific body locations or energy centers.',\n",
    "    'visual concentration': 'involves techniques like visualizations and concentration on visual objects to achieve a centered state of mind.',\n",
    "    'contemplation': 'encourages deep reflection on contradictions, paradoxes, or spiritual questions.',\n",
    "    'affect-centered meditation': 'encompasses practices that cultivate positive emotions such as compassion, loving-kindness, and equanimity.',\n",
    "    'mantra meditation': 'involves the repetitive use of syllables, words, or phrases, often with sounds and mantras, to facilitate meditation.',\n",
    "    'movement meditation': 'combines mindfulness with physical activity, including manipulating the breath, walking, and sensory observation.'\n",
    "}"
   ]
  },
  {
   "cell_type": "markdown",
   "metadata": {},
   "source": [
    "#### Model falcon7b"
   ]
  },
  {
   "cell_type": "code",
   "execution_count": 6,
   "metadata": {},
   "outputs": [
    {
     "name": "stderr",
     "output_type": "stream",
     "text": [
      "\n",
      "WARNING: You are currently loading Falcon using legacy code contained in the model repository. Falcon has now been fully ported into the Hugging Face transformers library. For the most up-to-date and high-performance version of the Falcon model code, please update to the latest version of transformers and then load the model without the trust_remote_code=True argument.\n",
      "\n"
     ]
    },
    {
     "data": {
      "application/vnd.jupyter.widget-view+json": {
       "model_id": "6f0eaf3913c5489191a19b7813875eab",
       "version_major": 2,
       "version_minor": 0
      },
      "text/plain": [
       "Loading checkpoint shards:   0%|          | 0/2 [00:00<?, ?it/s]"
      ]
     },
     "metadata": {},
     "output_type": "display_data"
    }
   ],
   "source": [
    "model_name = falcon7b\n",
    "model, tokenizer = load_model(model_name)"
   ]
  },
  {
   "cell_type": "code",
   "execution_count": 7,
   "metadata": {},
   "outputs": [
    {
     "name": "stdout",
     "output_type": "stream",
     "text": [
      "Context:\n",
      " I'm sad about losing a lost one. I need comfort\n",
      "Make sure the response ends with a complete sentence. \n",
      "\n",
      "Transcript\n",
      " ### Instruction:\n",
      "Write me a mindful observation meditation script of about 200 words which emphasizes the practice of mindfully observing oneself in a state of stillness, which includes lying meditation, sitting in silence, and observing thoughts and emotions.\n",
      "\n",
      "### Context:\n",
      "I'm sad about losing a lost one. I need comfort\n",
      "Make sure the response ends with a complete sentence.\n",
      "\n",
      "\n",
      "I'm sad about losing a loved one, and I need comfort. To bring me relief, I try to make myself mindful of the here and now and of my breath. As I focus on my breath, I watch my thoughts float by without attaching to them. There's a strange stillness in my mind, where I can almost feel emptiness and infinite space. If I become caught up in my thoughts, I let them pass without judgment and try to gently turn back to my breath. I find solace in the sense of presence and the acceptance of emptiness. The feeling of sadness doesn't take away the pain, but I can know that it's impermanent, and that helps ease my suffering. In the moment, I can observe myself and be still, grateful for the peaceful sensation. That this and all my ideas exist is a gift from life, and even this sadness is also a part of it. That's what I need to keep in mind, that everything is impermanent, and that all life is full of ups and downs. I practice mindful meditation to help me remember this and to be in gratitude for it.\n"
     ]
    }
   ],
   "source": [
    "med_type = 'mindful observation'\n",
    "\n",
    "context = \"I'm sad about losing a lost one. I need comfort\"  # Nice: I noticed llama did address the loss\n",
    "context += \"\\nMake sure the response ends with a complete sentence.\"\n",
    "\n",
    "predict_model(model, tokenizer, med_type, context)"
   ]
  },
  {
   "cell_type": "code",
   "execution_count": 8,
   "metadata": {},
   "outputs": [
    {
     "name": "stdout",
     "output_type": "stream",
     "text": [
      "Context:\n",
      " I'm sad about losing a lost one. I need comfort\n",
      "Make sure the response ends with a complete sentence. \n",
      "\n",
      "Transcript\n",
      " ### Instruction:\n",
      "Write me a body-centered meditation meditation script of about 200 words which focuses on heightened awareness of the body, breath, and sensory perceptions, sometimes involving concentration on specific body locations or energy centers.\n",
      "\n",
      "### Context:\n",
      "I'm sad about losing a lost one. I need comfort\n",
      "Make sure the response ends with a complete sentence.\n",
      "\n",
      "\n",
      "As I sit here thinking of you, I remember all the good times and the little ways you made my days a bit brighter. I allow the sadness to wash over me, feeling a connection to the warmth and comfort that I had while spent with you. I take a deep breath and reach for my breath, extending the love and comfort from you that your body brought into your life. As I inhale, I acknowledge the sadness in a way that honors you and I, the way your life did. The practice of breathing deeply and taking care of my body helps me find a sense of solace, embracing your comfort as it was.\n"
     ]
    }
   ],
   "source": [
    "med_type = 'body-centered meditation'\n",
    "\n",
    "context = \"I'm sad about losing a lost one. I need comfort\"  # Nice: I noticed llama did address the loss\n",
    "context += \"\\nMake sure the response ends with a complete sentence.\"\n",
    "\n",
    "predict_model(model, tokenizer, med_type, context)"
   ]
  },
  {
   "cell_type": "code",
   "execution_count": null,
   "metadata": {},
   "outputs": [],
   "source": []
  },
  {
   "cell_type": "markdown",
   "metadata": {},
   "source": [
    "#### Model llama2"
   ]
  },
  {
   "cell_type": "code",
   "execution_count": 6,
   "metadata": {},
   "outputs": [
    {
     "data": {
      "application/vnd.jupyter.widget-view+json": {
       "model_id": "d77959f981a5406aabf82394f83fdd3f",
       "version_major": 2,
       "version_minor": 0
      },
      "text/plain": [
       "Loading checkpoint shards:   0%|          | 0/2 [00:00<?, ?it/s]"
      ]
     },
     "metadata": {},
     "output_type": "display_data"
    }
   ],
   "source": [
    "model_name = llama2\n",
    "model, tokenizer = load_model(model_name)"
   ]
  },
  {
   "cell_type": "code",
   "execution_count": 7,
   "metadata": {},
   "outputs": [
    {
     "name": "stderr",
     "output_type": "stream",
     "text": [
      "/home/javiferfer/anaconda3/lib/python3.9/site-packages/transformers/generation/utils.py:1270: UserWarning: You have modified the pretrained model configuration to control generation. This is a deprecated strategy to control generation and will be removed soon, in a future version. Please use a generation configuration file (see https://huggingface.co/docs/transformers/main_classes/text_generation )\n",
      "  warnings.warn(\n"
     ]
    },
    {
     "name": "stdout",
     "output_type": "stream",
     "text": [
      "### PROMPT:\n",
      "<s>[INST] <<SYS>>\n",
      "I'm sad about losing a lost one. I need comfort\n",
      "Make sure the response ends with a complete sentence.\n",
      "<</SYS>>\n",
      "\n",
      "Write me a mindful observation meditation script of about 200 words which emphasizes the practice of mindfully observing oneself in a state of stillness, which includes lying meditation, sitting in silence, and observing thoughts and emotions. [/INST]\n",
      "\n",
      "\n",
      "Context:\n",
      " I'm sad about losing a lost one. I need comfort\n",
      "Make sure the response ends with a complete sentence. \n",
      "\n",
      "Transcript\n",
      " Find a quiet and comfortable place to sit, either lying down or sitting in silence. Take a few deep breaths and focus your attention on your body, starting from your toes and moving up to the top of your head. As you do this, notice any areas of tension or discomfort and try to let go of them.\n",
      "\n",
      "As you settle into stillness, bring your attention to your breath. Notice the sensation of the air moving in and out of your body, and try to let go of any thoughts or emotions that come up. Allow yourself to simply be in this moment, without judgment or attachment.\n",
      "\n",
      "As you continue to breathe deeply and slowly, bring your attention to your emotions and thoughts. Notice any feelings of sadness or loss, and allow yourself to feel them fully. Don't try to push them away or distract yourself from them, but instead try to observe them with a sense of curiosity and compassion. Ask yourself, \"What am I feeling right now? What does this feeling want to tell me?\"\n",
      "\n",
      "As you continue to observe your emotions and thoughts, try to cultivate a sense of kindness and understanding towards yourself. Remember that it's okay to feel sad or lost, and that these feelings are a natural part of life. Allow yourself to be gentle with yourself, and to offer yourself the comfort and support that you need.\n",
      "\n",
      "As you continue to meditate, notice any areas of your body that may be holding tension or discomfort. Take a deep breath and try to release any tension or discomfort as you exhale. Allow your body to relax and soften, and trust that you are safe and supported in this moment.\n",
      "\n",
      "Remember that it's okay to feel whatever emotions arise, and that you are doing your best to navigate this difficult time. Take a deep breath and trust that you will find comfort and support as you continue to practice mindful observation.\n",
      "\n",
      "May you find peace and comfort in this moment, and may you be gentle with yourself as you continue to grieve and heal.\n"
     ]
    }
   ],
   "source": [
    "med_type = 'mindful observation'\n",
    "\n",
    "context = \"I'm sad about losing a lost one. I need comfort\"  # Nice: I noticed llama did address the loss\n",
    "context += \"\\nMake sure the response ends with a complete sentence.\"\n",
    "\n",
    "predict_model(model, tokenizer, med_type, context)"
   ]
  },
  {
   "cell_type": "code",
   "execution_count": 8,
   "metadata": {},
   "outputs": [
    {
     "name": "stdout",
     "output_type": "stream",
     "text": [
      "### PROMPT:\n",
      "<s>[INST] <<SYS>>\n",
      "I'm sad about losing a lost one. I need comfort\n",
      "Make sure the response ends with a complete sentence.\n",
      "<</SYS>>\n",
      "\n",
      "Write me a body-centered meditation meditation script of about 200 words which focuses on heightened awareness of the body, breath, and sensory perceptions, sometimes involving concentration on specific body locations or energy centers. [/INST]\n",
      "\n",
      "\n",
      "Context:\n",
      " I'm sad about losing a lost one. I need comfort\n",
      "Make sure the response ends with a complete sentence. \n",
      "\n",
      "Transcript\n",
      " Find a comfortable seated position, either on a cushion on the floor or in a chair. Close your eyes and bring your attention to your breath, feeling the sensation of the breath moving in and out of your body. Allow your attention to settle on the sensation of the breath, and let go of any thoughts or distractions that arise.\n",
      "\n",
      "As you continue to focus on your breath, begin to bring your attention to different parts of your body. Starting at your toes, bring your awareness up through your body, paying attention to the sensations in each location. Feel the weight of your body on the ground, the sensation of your seat on the chair or the floor, and the sensation of your feet connecting with the ground.\n",
      "\n",
      "As you continue to focus on your body, bring your attention to different energy centers within your body. Starting at the crown of your head, bring your awareness down through your body, focusing on the sensations in each energy center. Feel the warmth or coolness of each center, and allow any sensations or emotions to arise without judgment.\n",
      "\n",
      "As you continue to practice this body-centered meditation, allow your attention to settle on any area of your body that feels particularly sensitive or tender. Allow yourself to feel the sensation of your body, and allow any emotions or memories to arise without judgment.\n",
      "\n",
      "Remember, your lost one is always with you in spirit, and this meditation can help you connect with their presence in a deeper way. Allow yourself to feel their love and presence within your body, and know that they are always with you.\n",
      "\n",
      "Take several deep breaths, and when you are ready, slowly open your eyes. Take a moment to notice how you feel, and remember to take this feeling of connection and peace with you throughout your day.\n"
     ]
    }
   ],
   "source": [
    "med_type = 'body-centered meditation'\n",
    "\n",
    "context = \"I'm sad about losing a lost one. I need comfort\"  # Nice: I noticed llama did address the loss\n",
    "context += \"\\nMake sure the response ends with a complete sentence.\"\n",
    "\n",
    "predict_model(model, tokenizer, med_type, context)"
   ]
  },
  {
   "cell_type": "code",
   "execution_count": null,
   "metadata": {},
   "outputs": [],
   "source": []
  }
 ],
 "metadata": {
  "accelerator": "GPU",
  "colab": {
   "gpuType": "T4",
   "provenance": []
  },
  "kernelspec": {
   "display_name": "Python 3 (ipykernel)",
   "language": "python",
   "name": "python3"
  },
  "language_info": {
   "codemirror_mode": {
    "name": "ipython",
    "version": 3
   },
   "file_extension": ".py",
   "mimetype": "text/x-python",
   "name": "python",
   "nbconvert_exporter": "python",
   "pygments_lexer": "ipython3",
   "version": "3.9.13"
  }
 },
 "nbformat": 4,
 "nbformat_minor": 1
}
