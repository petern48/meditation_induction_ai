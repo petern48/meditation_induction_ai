{
 "cells": [
  {
   "cell_type": "code",
   "execution_count": 1,
   "metadata": {
    "id": "-RHV94XWm3yJ"
   },
   "outputs": [],
   "source": [
    "# !pip install -q accelerate==0.21.0 transformers==4.31.0 xformers bitsandbytes==0.40.2  # peft==0.4.0\n",
    "# !pip install einops  # for falcon model\n",
    "# !pip install torch"
   ]
  },
  {
   "cell_type": "code",
   "execution_count": 2,
   "metadata": {
    "id": "RICmsfeynOEx"
   },
   "outputs": [],
   "source": [
    "from transformers import AutoModelForCausalLM, AutoTokenizer, pipeline, logging, BitsAndBytesConfig\n",
    "import torch, re\n",
    "\n",
    "logging.set_verbosity(logging.CRITICAL)"
   ]
  },
  {
   "cell_type": "code",
   "execution_count": 3,
   "metadata": {},
   "outputs": [
    {
     "name": "stdout",
     "output_type": "stream",
     "text": [
      "{'': 0}\n"
     ]
    }
   ],
   "source": [
    "llama2 = 'NousResearch/Llama-2-7b-chat-hf'\n",
    "falcon7b = 'tiiuae/falcon-7b-instruct'\n",
    "\n",
    "# Load the entire model on the GPU 0\n",
    "DEVICE = {\"\": 0}  # or try 'auto'\n",
    "print(DEVICE)"
   ]
  },
  {
   "cell_type": "code",
   "execution_count": 4,
   "metadata": {},
   "outputs": [],
   "source": [
    "def load_model(model_name):\n",
    "    # NOTE: BitsAndBytesConfig might be unnecessary. I used it as an attempt to get falcon to load in colab.\n",
    "    bnb_config = BitsAndBytesConfig(\n",
    "        load_in_4bit=True,\n",
    "        bnb_4bit_compute_dtype=torch.float16,\n",
    "        bnb_4bit_quant_type=\"nf4\",\n",
    "        bnb_4bit_use_double_quant=True,\n",
    "    )\n",
    "\n",
    "    model = AutoModelForCausalLM.from_pretrained(\n",
    "        model_name,\n",
    "        low_cpu_mem_usage=True,  # Auto set to true when specifying device_map\n",
    "        return_dict=True,\n",
    "        torch_dtype=torch.float16,\n",
    "        device_map=DEVICE,  # device_map\n",
    "        trust_remote_code=True,\n",
    "        quantization_config=bnb_config\n",
    "        # load_in_4bit=True,  # unsure if this should maybe help with loading it\n",
    "    )\n",
    "\n",
    "    tokenizer = AutoTokenizer.from_pretrained(model_name, trust_remote_code=True)\n",
    "    tokenizer.pad_token = tokenizer.eos_token\n",
    "    tokenizer.padding_side = \"right\"\n",
    "    \n",
    "    return model, tokenizer\n",
    "\n",
    "    \n",
    "def predict_model(model, tokenizer, med_type, context):\n",
    "    # Run text generation pipeline with our next model\n",
    "    prompt = f\"Write me a {med_type} meditation script which {GOALS[med_type]}\"\n",
    "\n",
    "    if model_name == llama2:\n",
    "        tokenized_prompt = f\"\"\"<s>[INST] <<SYS>>\\n{context}\\n<</SYS>>\\n\\n{prompt} [/INST]\"\"\"\n",
    "    elif model_name == falcon7b:\n",
    "        # Do not have a stray space at end of it will mess with tokenization\n",
    "        tokenized_prompt = f\"\"\"### Instruction:\\n{prompt}\\n\\n### Context:\\n{context}\\n\\n### Response:\"\"\"\n",
    "    else:\n",
    "        raise Exception('Invalid model name')\n",
    "\n",
    "    encodeds = tokenizer(tokenized_prompt, return_tensors=\"pt\", add_special_tokens=False)\n",
    "    model_inputs = encodeds.to(\"cuda:0\")\n",
    "\n",
    "    generated_ids = model.generate(\n",
    "        **model_inputs,\n",
    "        max_new_tokens=512,\n",
    "        top_p=0.95,  # Added. Seems to work!\n",
    "        top_k=1000,  # Added\n",
    "        do_sample=True)\n",
    "    # print('encoded\\n', generated_ids)\n",
    "    decoded = tokenizer.batch_decode(generated_ids, skip_special_tokens=True)\n",
    "    # print('Prompt: ', tokenized_prompt, '\\n')\n",
    "    output = decoded[0]\n",
    "    \n",
    "    # Extract the actual script (remove the prompt)\n",
    "    if model_name == llama2:\n",
    "        script = re.sub(r'[\\s\\S]*\\[/INST\\].*', '', output).lstrip()\n",
    "        # ^ Any char followed by [/INST] followed by any non-newline char (.*)\n",
    "        # The rest of the line usually says 'Great! Here's a meditation script that ...\n",
    "        print(f'### PROMPT:\\n{tokenized_prompt}\\n\\n')\n",
    "    else:  # model_name == falcon7b:\n",
    "        script = re.sub(r'.*### Response:', '', output)\n",
    "\n",
    "    # If response did not end in full sentence, remove the last substring that does not end in a period\n",
    "    last_period_idx = script.rfind('.')\n",
    "    if last_period_idx != -1:\n",
    "        script = script[:last_period_idx + 1]  # + 1 to keep the period\n",
    "\n",
    "    # print(output)\n",
    "    # print('\\n\\nSEPARATION')\n",
    "    print('Context:\\n', context, '\\n')\n",
    "    print('Transcript\\n', script)"
   ]
  },
  {
   "cell_type": "markdown",
   "metadata": {},
   "source": [
    "#### Setting parameters"
   ]
  },
  {
   "cell_type": "markdown",
   "metadata": {},
   "source": [
    "Change MED_TYPE to any key in the `goals` dictionary. If you'd like, you can add 'goals' as the values to incorporate into the prompt. You can also leave them empty and it should run fine.  \n",
    "Also you can set CONTEXT to a string that a user would provide to our LLM. There are already some commented examples."
   ]
  },
  {
   "cell_type": "code",
   "execution_count": 5,
   "metadata": {
    "id": "dGfHUg0hnZEJ"
   },
   "outputs": [],
   "source": [
    "GOALS = {\n",
    "    'mindful observation': 'emphasizes the practice of mindfully observing oneself in a state of stillness, which includes lying meditation, sitting in silence, and observing thoughts and emotions.',\n",
    "    'body-centered meditation': 'focuses on heightened awareness of the body, breath, and sensory perceptions, sometimes involving concentration on specific body locations or energy centers.',\n",
    "    'visual concentration': 'involves techniques like visualizations and concentration on visual objects to achieve a centered state of mind.',\n",
    "    'contemplation': 'encourages deep reflection on contradictions, paradoxes, or spiritual questions.',\n",
    "    'affect-centered meditation': 'encompasses practices that cultivate positive emotions such as compassion, loving-kindness, and equanimity.',\n",
    "    'mantra meditation': 'involves the repetitive use of syllables, words, or phrases, often with sounds and mantras, to facilitate meditation.',\n",
    "    'movement meditation': 'combines mindfulness with physical activity, including manipulating the breath, walking, and sensory observation.'\n",
    "}"
   ]
  },
  {
   "cell_type": "markdown",
   "metadata": {},
   "source": [
    "#### Model falcon7b"
   ]
  },
  {
   "cell_type": "code",
   "execution_count": 6,
   "metadata": {},
   "outputs": [
    {
     "name": "stderr",
     "output_type": "stream",
     "text": [
      "\n",
      "WARNING: You are currently loading Falcon using legacy code contained in the model repository. Falcon has now been fully ported into the Hugging Face transformers library. For the most up-to-date and high-performance version of the Falcon model code, please update to the latest version of transformers and then load the model without the trust_remote_code=True argument.\n",
      "\n"
     ]
    },
    {
     "data": {
      "application/vnd.jupyter.widget-view+json": {
       "model_id": "cca360844204461994f8dd34de652af8",
       "version_major": 2,
       "version_minor": 0
      },
      "text/plain": [
       "Loading checkpoint shards:   0%|          | 0/2 [00:00<?, ?it/s]"
      ]
     },
     "metadata": {},
     "output_type": "display_data"
    }
   ],
   "source": [
    "model_name = falcon7b\n",
    "model, tokenizer = load_model(model_name)"
   ]
  },
  {
   "cell_type": "code",
   "execution_count": 7,
   "metadata": {},
   "outputs": [
    {
     "name": "stdout",
     "output_type": "stream",
     "text": [
      "Context:\n",
      " I'm sad about losing a lost one. I need comfort\n",
      "Make sure the response ends with a complete sentence. \n",
      "\n",
      "Transcript\n",
      " ### Instruction:\n",
      "Write me a mindful observation meditation script which emphasizes the practice of mindfully observing oneself in a state of stillness, which includes lying meditation, sitting in silence, and observing thoughts and emotions.\n",
      "\n",
      "### Context:\n",
      "I'm sad about losing a lost one. I need comfort\n",
      "Make sure the response ends with a complete sentence.\n",
      "\n",
      "\n",
      "As you sit in stillness, mindfully observe the sadness and grief in your heart. Let those feelings be held gently, knowing they are valid and part of the healing process. Hold on to the sweet memories and the many ways you found to share love and gratitude with your lost one. Give yourself permission to heal and process these emotions over time.\n"
     ]
    }
   ],
   "source": [
    "med_type = 'mindful observation'\n",
    "\n",
    "context = \"I'm sad about losing a lost one. I need comfort\"  # Nice: I noticed llama did address the loss\n",
    "context += \"\\nMake sure the response ends with a complete sentence.\"\n",
    "\n",
    "predict_model(model, tokenizer, med_type, context)"
   ]
  },
  {
   "cell_type": "markdown",
   "metadata": {},
   "source": [
    "#### Model llama2"
   ]
  },
  {
   "cell_type": "code",
   "execution_count": 6,
   "metadata": {},
   "outputs": [
    {
     "data": {
      "application/vnd.jupyter.widget-view+json": {
       "model_id": "ebaa4faa53304c499512c6382db26a01",
       "version_major": 2,
       "version_minor": 0
      },
      "text/plain": [
       "Loading checkpoint shards:   0%|          | 0/2 [00:00<?, ?it/s]"
      ]
     },
     "metadata": {},
     "output_type": "display_data"
    }
   ],
   "source": [
    "model_name = llama2\n",
    "model, tokenizer = load_model(model_name)"
   ]
  },
  {
   "cell_type": "code",
   "execution_count": null,
   "metadata": {},
   "outputs": [
    {
     "name": "stderr",
     "output_type": "stream",
     "text": [
      "/home/javiferfer/anaconda3/lib/python3.9/site-packages/transformers/generation/utils.py:1270: UserWarning: You have modified the pretrained model configuration to control generation. This is a deprecated strategy to control generation and will be removed soon, in a future version. Please use a generation configuration file (see https://huggingface.co/docs/transformers/main_classes/text_generation )\n",
      "  warnings.warn(\n"
     ]
    }
   ],
   "source": [
    "med_type = 'mindful observation'\n",
    "\n",
    "context = \"I'm sad about losing a lost one. I need comfort\"  # Nice: I noticed llama did address the loss\n",
    "context += \"\\nMake sure the response ends with a complete sentence.\"\n",
    "\n",
    "predict_model(model, tokenizer, med_type, context)"
   ]
  },
  {
   "cell_type": "code",
   "execution_count": null,
   "metadata": {},
   "outputs": [],
   "source": []
  },
  {
   "cell_type": "code",
   "execution_count": null,
   "metadata": {},
   "outputs": [],
   "source": []
  },
  {
   "cell_type": "code",
   "execution_count": 8,
   "metadata": {
    "id": "3YD-P-DJ3Sba"
   },
   "outputs": [],
   "source": [
    "# NOTE: SOMETIMES. LLAMA 2 ends its reponse mid sentence. Not sure how to fix this"
   ]
  },
  {
   "cell_type": "markdown",
   "metadata": {
    "id": "0qVpE9OpK5-V"
   },
   "source": [
    "#### Example LLama 2 with context. personalized response to context\n",
    "output\n",
    "\n",
    "[INST] <\\<SYS>>\n",
    "I'm sad about losing a lost one. I need comfort\n",
    "Make sure the response ends with a complete sentence.\n",
    "<\\</SYS>>\n",
    "\n",
    "Write me a body-scan meditation script designed to relax and relieve stress by tightening and relaxing muscles. [/INST]  Of course, I'm here to help. Losing someone we love can be incredibly difficult and can leave us feeling sad, lost, and alone. It's important to remember that you are not alone in this feeling, and that many people have experienced this pain before.\n",
    "\n",
    "Take a deep breath in through your nose, and hold it for a moment. Feel the air fill your lungs and your body. Exhale slowly through your mouth, letting go of any tension or stress you may be carrying.\n",
    "\n",
    "Now, let's focus on relaxing your body. Starting at the crown of your head, work your way down to your toes, tensing and relaxing each muscle group as you go.\n",
    "\n",
    "* Tense your shoulders, holding them up towards your ears. Breathe out and release the tension, letting your shoulders relax and fall back down.\n",
    "* Tense your neck and jaw, letting go of any tension or stress. Breathe out and feel your jaw relax, your teeth parting slightly.\n",
    "* Tense your chest and abdomen, feeling any tightness or discomfort. Breathe out and relax these areas, letting your breath flow freely.\n",
    "* Tense your arms and legs, holding them in a relaxed position. Breathe out and let go of any tension, feeling your muscles relax and your body calm.\n",
    "* Tense your feet and toes, feeling any tightness or discomfort. Breathe out and let go of any tension, feeling your feet relax and your toes spread apart.\n",
    "\n",
    "As you continue to breathe, allow your body to relax and let go of any stress or tension. Imagine any worries or concerns floating away with your breath, leaving you feeling calm and relaxed.\n",
    "\n",
    "Remember, it's okay to feel sad and it's okay to take time to grieve. Give yourself the time and space you need to process your emotions, and know that with time, the pain will lessen and you will find peace and healing once again.\n",
    "\n",
    "Take another deep breath in through your nose, and hold it for a moment. Exhale slowly through your mouth, feeling relaxed and calm. Take one last deep breath, and let it go. Allow yourself to relax and let go of any tension, feeling the peace and calm wash over you.\n"
   ]
  },
  {
   "cell_type": "code",
   "execution_count": null,
   "metadata": {
    "id": "5OMN4qGrLbH1"
   },
   "outputs": [],
   "source": []
  },
  {
   "cell_type": "markdown",
   "metadata": {
    "id": "qnGPznVwLv3A"
   },
   "source": [
    "#### Example Llama 2 with context\n",
    "Prompt:\n",
    "\\<s>[INST] <\\<SYS>>\n",
    "I'm getting read to go to sleep I want to relax.\n",
    "Make sure the response ends with a complete sentence.\n",
    "<\\</SYS>>\n",
    "\n",
    "Write me a body-scan meditation script designed to relax and relieve stress by tightening and relaxing muscles. [/INST]  Great! Here's a body-scan meditation script to help you relax and relieve stress:\n",
    "\n",
    "Find a comfortable and quiet place where you can lie down or sit comfortably. Take a few deep breaths and let's begin.\n",
    "\n",
    "Close your eyes and bring your attention to your toes. As you exhale, gently squeeze your toes and hold for a few seconds. As you inhale, allow your toes to relax and let go of any tension.\n",
    "\n",
    "Now, bring your attention to your feet. As you exhale, tighten your feet, making sure there is no tension in your toes or heels. Hold for a few seconds, and then release as you inhale. Allow your feet to relax and feel the ground beneath you.\n",
    "\n",
    "Moving up your body, bring your attention to your ankles. As you exhale, gently squeeze your ankles and hold for a few seconds. As you inhale, allow your ankles to relax and feel the weight of your body on the ground.\n",
    "\n",
    "Continue this process, scanning your body from your ankles to your calves, knees, thighs, hips, back, shoulders, arms, hands, and finally, your head. With each scan, take a few deep breaths and allow the muscles in that area to relax and let go of any tension.\n",
    "\n",
    "As you exhale, imagine any stress or tension leaving your body and being replaced with a sense of calm and relaxation. Allow yourself to let go of any thoughts or worries, and simply focus on the sensation of your breath.\n",
    "\n",
    "Take a few more deep breaths and allow yourself to fully relax. Feel the weight of your body on the ground or in your bed, and know that you are safe and supported. As you drift off to sleep, hold the image of relaxation and calm in your mind, and allow yourself to fall into a peaceful and restful slumber.\n",
    "\n",
    "Sweet dreams!\\</s>"
   ]
  },
  {
   "cell_type": "code",
   "execution_count": null,
   "metadata": {
    "id": "wnSg7ks9JEbG"
   },
   "outputs": [],
   "source": []
  },
  {
   "cell_type": "markdown",
   "metadata": {
    "id": "bHT4HcpsvgYE"
   },
   "source": [
    "#### Example Llama 2 with context (active)\n",
    "Context:  I'm tired and sleepy in the morning and I need to wake up for the day.\n",
    "\n",
    " Make sure the response ends with a complete sentence\n",
    "\n",
    "Find a comfortable seated position, either on a cushion on the floor or in a chair. Close your eyes and take a few deep breaths.\n",
    "\n",
    "Beginning at the crown of your head, bring your attention to each muscle group in your body, starting at the top of your head and working your way down to your toes. As you focus on each area, take a deep breath in and exhale slowly, allowing any tension or stress to release.\n",
    "\n",
    "As you continue to breathe deeply, tighten the muscles in your face, including your eyebrows, cheeks, and jaw. Hold for a few seconds, and then release and feel the relaxation spread through your face.\n",
    "\n",
    "Next, focus on your shoulders and neck. Tighten the muscles in your shoulders, holding for a few seconds before releasing. As you exhale, feel any tension or stress melt away.\n",
    "\n",
    "Now, move down to your arms and hands. Tighten your biceps, holding for a few seconds before releasing. As you exhale, feel any tension or stress leave your arms and hands.\n",
    "\n",
    "Continue this process, working your way down your body, tightening and relaxing each muscle group in turn. As you focus on each area, allow any tension or stress to release and feel the relaxation spread through your body.\n",
    "\n",
    "Take a few more deep breaths, feeling your body become more and more relaxed with each exhalation. Allow yourself to fully relax and let go of any remaining tension or stress.\n",
    "\n",
    "When you're ready, slowly open your eyes and take a few more deep breaths, feeling refreshed and renewed.\n",
    "\n",
    "Remember, this is just a starting point, and you can always modify the script to suit your needs and preferences.\n",
    "\n",
    "Take a few more deep breaths, feeling your body become more and more relaxed with each exhalation. Allow yourself to fully relax and let go of any remaining tension or stress.\n",
    "\n",
    "When you're ready, slowly open your eyes and take a few more deep breaths, feeling refreshed and renewed.\n",
    "\n",
    "Remember, this is just a starting point, and you can always modify the script to suit your needs and preferences."
   ]
  },
  {
   "cell_type": "code",
   "execution_count": null,
   "metadata": {
    "id": "MPx0neGv3MFD"
   },
   "outputs": [],
   "source": []
  },
  {
   "cell_type": "markdown",
   "metadata": {
    "id": "iEqn2d3iMsMs"
   },
   "source": [
    "#### Example Llama 2 without context\n",
    "\\<s>[INST] <\\<SYS>>\n",
    "\n",
    "\n",
    " Make sure the response ends with a complete sentence\n",
    "<\\</SYS>>\n",
    "\n",
    "Write me a body-scan meditation script designed to relax and relieve stress by tightening and relaxing muscles. [/INST]  Sure, here is a body-scan meditation script designed to relax and relieve stress by tightening and relaxing muscles:\n",
    "\n",
    "Find a comfortable seated position, either on a cushion on the floor or in a chair. Close your eyes and take a few deep breaths. Feel the breath move in and out of your body, allowing it to relax and let go of any tension.\n",
    "\n",
    "Beginning at the crown of your head, bring your attention to each muscle group in your body, starting at the top and working your way down to your toes. As you focus on each area, take a deep breath in and exhale slowly, allowing any tension to release.\n",
    "\n",
    "In your neck and shoulders, feel the muscles relax and release as you breathe. Imagine any knots or tension melting away with each exhalation.\n",
    "\n",
    "As you move down to your upper back, chest, and arms, feel the muscles relax and lengthen, allowing your body to open and expand.\n",
    "\n",
    "In your abdomen, feel the muscles soften and release, allowing your body to relax and let go of any tension.\n",
    "\n",
    "As you move down to your lower back, hips, and legs, feel the muscles relax and release, allowing your body to move freely and easily.\n",
    "\n",
    "In your feet and toes, feel the grounding sensation of the earth, and imagine any remaining tension melting away as you exhale.\n",
    "\n",
    "Take a few more deep breaths, feeling the relaxation and release throughout your body. When you are ready, slowly open your eyes and take a moment to notice how you feel.\n",
    "\n",
    "Remember, the more you practice body-scan meditation, the more you will become aware of your body and the ways in which it can relax and release tension. Take a few moments each day to come back to this practice and allow yourself to feel more relaxed and at ease in your body."
   ]
  },
  {
   "cell_type": "code",
   "execution_count": null,
   "metadata": {
    "id": "4j6h5K1hL2UZ"
   },
   "outputs": [],
   "source": []
  }
 ],
 "metadata": {
  "accelerator": "GPU",
  "colab": {
   "gpuType": "T4",
   "provenance": []
  },
  "kernelspec": {
   "display_name": "Python 3 (ipykernel)",
   "language": "python",
   "name": "python3"
  },
  "language_info": {
   "codemirror_mode": {
    "name": "ipython",
    "version": 3
   },
   "file_extension": ".py",
   "mimetype": "text/x-python",
   "name": "python",
   "nbconvert_exporter": "python",
   "pygments_lexer": "ipython3",
   "version": "3.9.13"
  }
 },
 "nbformat": 4,
 "nbformat_minor": 1
}
