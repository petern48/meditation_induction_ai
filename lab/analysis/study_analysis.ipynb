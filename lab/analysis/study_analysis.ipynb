{
 "cells": [
  {
   "cell_type": "code",
   "execution_count": 1,
   "metadata": {},
   "outputs": [],
   "source": [
    "# !pip install matplotlib\n",
    "# !pip install pandas\n",
    "# !pip install openpyxl  # for read_excel to work"
   ]
  },
  {
   "cell_type": "code",
   "execution_count": 2,
   "metadata": {},
   "outputs": [],
   "source": [
    "import matplotlib.pyplot as plt\n",
    "import numpy as np\n",
    "import pandas as pd\n",
    "import seaborn as sns\n",
    "from scipy import stats"
   ]
  },
  {
   "cell_type": "code",
   "execution_count": 3,
   "metadata": {},
   "outputs": [],
   "source": [
    "# The keys are indexes for the columns\n",
    "RENAMED_QUESTIONS = {\n",
    "    2: 'Gender',\n",
    "    3: 'Experience with Meditation',\n",
    "    4: 'Ordering',\n",
    "    # col 5\n",
    "    6: 'Context 1',\n",
    "    # col 7 is dropped\n",
    "    8: 'Context 2',\n",
    "    # col 9 is dropped\n",
    "    # col 10 is dropped\n",
    "    11: 'Content quality (audio-only)',\n",
    "    12: 'Content quality (video+audio)',\n",
    "    13: 'Audio quality (audio-only)',\n",
    "    14: 'Audio quality (video+audio)',\n",
    "    15: 'Music Added to Experience',\n",
    "    16: 'Visuals Matched with Audio',\n",
    "    17: 'Visuals Added to Experience',\n",
    "    18: 'Audio-Only Overall Rating',\n",
    "    19: 'Video+Audio Overall Rating',\n",
    "    20: 'Which more Personalized',\n",
    "    21: 'Would meditate more if more personalized',\n",
    "    22: 'Would try other Meditation Types',\n",
    "    23: 'Would Color Scheme be better',\n",
    "}"
   ]
  },
  {
   "cell_type": "code",
   "execution_count": 4,
   "metadata": {},
   "outputs": [
    {
     "name": "stdout",
     "output_type": "stream",
     "text": [
      "(9, 17)\n"
     ]
    }
   ],
   "source": [
    "DATA_FILE_PATH = 'meditation-study-responses.xlsx'\n",
    "df = pd.read_excel(DATA_FILE_PATH)  # , engine='openpyxl'  # Add this if not working\n",
    "\n",
    "# Rename the columns\n",
    "for key in RENAMED_QUESTIONS.keys():\n",
    "    df.columns.values[key] = RENAMED_QUESTIONS[key]\n",
    "\n",
    "# Delete the unnecessary columns\n",
    "COLUMN_INDEXES_TO_DROP = df.columns[[0, 1, 5, 7, 9, 10, 24, 25]]\n",
    "df = df.drop(COLUMN_INDEXES_TO_DROP, axis=1)\n",
    "\n",
    "# Combine the 'Context' column\n",
    "df['Context'] = df['Context 1'].fillna(df['Context 2'])\n",
    "df.drop(columns=['Context 1', 'Context 2'], inplace=True)\n",
    "\n",
    "print(df.shape)"
   ]
  },
  {
   "cell_type": "markdown",
   "metadata": {},
   "source": [
    "### Metadata"
   ]
  },
  {
   "cell_type": "markdown",
   "metadata": {},
   "source": [
    "Half of the participants were men and the other half women."
   ]
  },
  {
   "cell_type": "code",
   "execution_count": 5,
   "metadata": {
    "scrolled": true
   },
   "outputs": [
    {
     "data": {
      "text/plain": [
       "Female    5\n",
       "Male      4\n",
       "Name: Gender, dtype: int64"
      ]
     },
     "execution_count": 5,
     "metadata": {},
     "output_type": "execute_result"
    }
   ],
   "source": [
    "df['Gender'].value_counts()"
   ]
  },
  {
   "cell_type": "code",
   "execution_count": 6,
   "metadata": {},
   "outputs": [
    {
     "data": {
      "text/plain": [
       "0       4\n",
       "6-10    3\n",
       "3-5     1\n",
       "1-3     1\n",
       "Name: Experience with Meditation, dtype: int64"
      ]
     },
     "execution_count": 6,
     "metadata": {},
     "output_type": "execute_result"
    }
   ],
   "source": [
    "df['Experience with Meditation'].value_counts()"
   ]
  },
  {
   "cell_type": "code",
   "execution_count": 7,
   "metadata": {},
   "outputs": [
    {
     "data": {
      "text/plain": [
       "Gender  Experience with Meditation\n",
       "Male    0                             3\n",
       "Female  6-10                          2\n",
       "        0                             1\n",
       "        1-3                           1\n",
       "        3-5                           1\n",
       "Male    6-10                          1\n",
       "dtype: int64"
      ]
     },
     "execution_count": 7,
     "metadata": {},
     "output_type": "execute_result"
    }
   ],
   "source": [
    "df[['Gender', 'Experience with Meditation']].value_counts()"
   ]
  },
  {
   "cell_type": "markdown",
   "metadata": {},
   "source": [
    "### Experiment"
   ]
  },
  {
   "cell_type": "markdown",
   "metadata": {},
   "source": [
    "The order of the meditation sessions was alternated between participants."
   ]
  },
  {
   "cell_type": "code",
   "execution_count": 8,
   "metadata": {},
   "outputs": [
    {
     "data": {
      "text/plain": [
       "Option 2    5\n",
       "Option 1    4\n",
       "Name: Ordering, dtype: int64"
      ]
     },
     "execution_count": 8,
     "metadata": {},
     "output_type": "execute_result"
    }
   ],
   "source": [
    "df['Ordering'].value_counts()"
   ]
  },
  {
   "cell_type": "markdown",
   "metadata": {},
   "source": [
    "Most of the participants voted for the option 'I'm very stressed about school (stressed).' as most of them are university students."
   ]
  },
  {
   "cell_type": "code",
   "execution_count": 9,
   "metadata": {},
   "outputs": [
    {
     "data": {
      "text/plain": [
       "I'm very stressed about school (stressed).                         7\n",
       "I'm very tired and sleepy after a long day of school. (sleepy).    1\n",
       "I'm very sad about losing a loved one (sad).                       1\n",
       "Name: Context, dtype: int64"
      ]
     },
     "execution_count": 9,
     "metadata": {},
     "output_type": "execute_result"
    }
   ],
   "source": [
    "df['Context'].value_counts()"
   ]
  },
  {
   "cell_type": "markdown",
   "metadata": {},
   "source": [
    "Q: For the video and audio meditation, did the music add to the experience?\n",
    "\n",
    "Rating:\n",
    "- 1: No, much worse\n",
    "- 5: Yes, much better\n",
    "\n",
    "People in general prefered having music. Nevertheless, some of them did not enjoy having it and none gave the maximum score, so it would be interesting to explore other types of music and play with some of its parameters such as the volume or the synchronization with the audio."
   ]
  },
  {
   "cell_type": "code",
   "execution_count": 10,
   "metadata": {},
   "outputs": [
    {
     "name": "stdout",
     "output_type": "stream",
     "text": [
      "3.11 ± 1.05\n",
      "4    4\n",
      "3    3\n",
      "2    1\n",
      "1    1\n",
      "Name: Music Added to Experience, dtype: int64\n"
     ]
    }
   ],
   "source": [
    "column = 'Music Added to Experience'\n",
    "print(f\"{df[column].mean():.2f} ± {df[column].std():.2f}\")\n",
    "print(df[column].value_counts())"
   ]
  },
  {
   "cell_type": "markdown",
   "metadata": {},
   "source": [
    "People thought that the video did not properly matching the audio. To take into account:\n",
    "\n",
    "- Sleepy: Mentions to close the eyes until the end\n",
    "- Stressed: Mentions to close the eyes or leave them lightly closed\n",
    "- Sad: Does not mention to close the eyes"
   ]
  },
  {
   "cell_type": "code",
   "execution_count": 11,
   "metadata": {},
   "outputs": [
    {
     "name": "stdout",
     "output_type": "stream",
     "text": [
      "2.33 ± 1.22\n",
      "1    3\n",
      "3    2\n",
      "4    2\n",
      "2    2\n",
      "Name: Visuals Matched with Audio, dtype: int64\n"
     ]
    }
   ],
   "source": [
    "column = 'Visuals Matched with Audio'\n",
    "print(f\"{df[column].mean():.2f} ± {df[column].std():.2f}\")\n",
    "print(df[column].value_counts())"
   ]
  },
  {
   "cell_type": "markdown",
   "metadata": {},
   "source": [
    "People thought that the visuals did not add much value to the experience. Listening to the audios again:\n",
    "- Sleepy: Mentions to close the eyes until the end\n",
    "- Stressed: Mentions to close the eyes or leave them lightly closed\n",
    "- Sad: Does not mention to close the eyes"
   ]
  },
  {
   "cell_type": "code",
   "execution_count": 12,
   "metadata": {},
   "outputs": [
    {
     "name": "stdout",
     "output_type": "stream",
     "text": [
      "2.33 ± 1.22\n",
      "1    3\n",
      "3    2\n",
      "4    2\n",
      "2    2\n",
      "Name: Visuals Added to Experience, dtype: int64\n"
     ]
    }
   ],
   "source": [
    "column = 'Visuals Added to Experience'\n",
    "print(f\"{df[column].mean():.2f} ± {df[column].std():.2f}\")\n",
    "print(df[column].value_counts())"
   ]
  },
  {
   "cell_type": "markdown",
   "metadata": {},
   "source": [
    "Q: Did either of the meditations feel more personalized (considering anything you selected in this form)? Note: Select 3 for neither.\n",
    "\n",
    "Ratings:\n",
    "- 1: Definitely Audio-Only\n",
    "- 5: Definitely Video+Audio\n",
    "\n",
    "In general, people did not notice that the video created from the new system was more personalized. Nevertheless, we did not let them choose:\n",
    "- The context\n",
    "- The type of meditation"
   ]
  },
  {
   "cell_type": "code",
   "execution_count": 13,
   "metadata": {},
   "outputs": [
    {
     "name": "stdout",
     "output_type": "stream",
     "text": [
      "2.78 ± 1.30\n",
      "3    4\n",
      "1    2\n",
      "4    1\n",
      "5    1\n",
      "2    1\n",
      "Name: Which more Personalized, dtype: int64\n"
     ]
    }
   ],
   "source": [
    "column = 'Which more Personalized'\n",
    "print(f\"{df[column].mean():.2f} ± {df[column].std():.2f}\")\n",
    "print(df[column].value_counts())"
   ]
  },
  {
   "cell_type": "markdown",
   "metadata": {},
   "source": [
    "Q: Could you see yourself meditating more regularly or benefitting from meditation if practices were more personalized?\n",
    "\n",
    "Ratings:\n",
    "- 0: Not at all\n",
    "- 5: Definitely\n",
    "\n",
    "In general, people would do it. Hence, there is high chance this system can help on increasing the number of people doing meditation."
   ]
  },
  {
   "cell_type": "code",
   "execution_count": 14,
   "metadata": {},
   "outputs": [
    {
     "name": "stdout",
     "output_type": "stream",
     "text": [
      "3.33 ± 1.50\n",
      "4    3\n",
      "1    2\n",
      "5    2\n",
      "3    2\n",
      "Name: Would meditate more if more personalized, dtype: int64\n"
     ]
    }
   ],
   "source": [
    "column = 'Would meditate more if more personalized'\n",
    "print(f\"{df[column].mean():.2f} ± {df[column].std():.2f}\")\n",
    "print(df[column].value_counts())"
   ]
  },
  {
   "cell_type": "markdown",
   "metadata": {},
   "source": [
    "Q: In this study, you did a body-centered meditation, but there are many other types of meditation. See examples below. Could you imagine yourself in contexts where you would prefer any of the other types of meditation?\n",
    "\n",
    "1. mindful observation - emphasizes the practice of mindfully observing one’s thoughts and emotions in a state of stillness and silence.\n",
    "2. body-centered - involves concentrating, relaxing, and possible tensing specific parts of the body.\n",
    "3. visual concentration - focuses on techniques like visualizations and concentration on visual objects to achieve a centered state of mind.\n",
    "4. contemplation - encourages deep reflection on contradictions, paradoxes, or spiritual questions.\n",
    "5. affect-centered - encompasses practices that cultivate positive emotions such as compassion, loving-kindness, and equanimity.\n",
    "6. mantra - involves repeating a mantra (phrase, syllable, word, or sound) to facilitate meditation.\n",
    "8. movement - combines mindfulness with physical activity, including manipulating the breath, walking, and sensory observation. This includes yoga.\n",
    "\n",
    "Ratings:\n",
    "- 0: Not at all\n",
    "- 5: Definitely\n",
    "\n",
    "Some people think it could be intereseting, though it is interesting that some people didn't find this insightful."
   ]
  },
  {
   "cell_type": "code",
   "execution_count": 15,
   "metadata": {},
   "outputs": [
    {
     "name": "stdout",
     "output_type": "stream",
     "text": [
      "3.33 ± 1.41\n",
      "4    3\n",
      "5    2\n",
      "2    2\n",
      "3    1\n",
      "1    1\n",
      "Name: Would try other Meditation Types, dtype: int64\n"
     ]
    }
   ],
   "source": [
    "column = 'Would try other Meditation Types'\n",
    "print(f\"{df[column].mean():.2f} ± {df[column].std():.2f}\")\n",
    "print(df[column].value_counts())"
   ]
  },
  {
   "cell_type": "markdown",
   "metadata": {},
   "source": [
    "I was expecting the person that voted with low value for one question would be voting for the second as well, but it is not the case."
   ]
  },
  {
   "cell_type": "code",
   "execution_count": 16,
   "metadata": {},
   "outputs": [
    {
     "name": "stdout",
     "output_type": "stream",
     "text": [
      "-0.11785113019775796\n",
      "Would try other Meditation Types  Would meditate more if more personalized\n",
      "2                                 4                                           2\n",
      "1                                 3                                           1\n",
      "3                                 3                                           1\n",
      "4                                 1                                           1\n",
      "                                  4                                           1\n",
      "                                  5                                           1\n",
      "5                                 1                                           1\n",
      "                                  5                                           1\n",
      "dtype: int64\n"
     ]
    }
   ],
   "source": [
    "column = ['Would try other Meditation Types', 'Would meditate more if more personalized']\n",
    "print(df['Would try other Meditation Types'].corr(df['Would meditate more if more personalized']))\n",
    "print(df[column].value_counts())"
   ]
  },
  {
   "cell_type": "markdown",
   "metadata": {},
   "source": [
    "Q: Consider if the video had different color schemes. Could you imagine yourself having a better experience with particular color schemes? See the below picture for examples.\n",
    "\n",
    "Ratings:\n",
    "- 0: Not at all\n",
    "- 5: Definitely"
   ]
  },
  {
   "cell_type": "code",
   "execution_count": 17,
   "metadata": {},
   "outputs": [
    {
     "name": "stdout",
     "output_type": "stream",
     "text": [
      "3.22 ± 1.56\n",
      "2    3\n",
      "5    3\n",
      "1    1\n",
      "4    1\n",
      "3    1\n",
      "Name: Would Color Scheme be better, dtype: int64\n"
     ]
    }
   ],
   "source": [
    "column = 'Would Color Scheme be better'\n",
    "print(f\"{df[column].mean():.2f} ± {df[column].std():.2f}\")\n",
    "print(df[column].value_counts())"
   ]
  },
  {
   "cell_type": "markdown",
   "metadata": {},
   "source": [
    "Not highly correlated both questions."
   ]
  },
  {
   "cell_type": "code",
   "execution_count": 18,
   "metadata": {},
   "outputs": [
    {
     "name": "stdout",
     "output_type": "stream",
     "text": [
      "0.2175970699446223\n",
      "Visuals Added to Experience  Would Color Scheme be better\n",
      "2                            5                               2\n",
      "3                            2                               2\n",
      "1                            1                               1\n",
      "                             2                               1\n",
      "                             4                               1\n",
      "4                            3                               1\n",
      "                             5                               1\n",
      "dtype: int64\n"
     ]
    }
   ],
   "source": [
    "column = ['Visuals Added to Experience', 'Would Color Scheme be better']\n",
    "print(df['Visuals Added to Experience'].corr(df['Would Color Scheme be better']))\n",
    "print(df[column].value_counts())"
   ]
  },
  {
   "cell_type": "markdown",
   "metadata": {},
   "source": [
    "#### Disttributions:"
   ]
  },
  {
   "cell_type": "markdown",
   "metadata": {},
   "source": [
    "11: 'Content quality (audio-only)'\n",
    "\n",
    "12: 'Content quality (video+audio)'"
   ]
  },
  {
   "cell_type": "code",
   "execution_count": 19,
   "metadata": {},
   "outputs": [
    {
     "name": "stdout",
     "output_type": "stream",
     "text": [
      "Ttest_indResult(statistic=1.545539575522186, pvalue=0.1418915034532672)\n",
      "7.33 ± 2.06\n",
      "5.89 ± 1.90\n"
     ]
    },
    {
     "name": "stderr",
     "output_type": "stream",
     "text": [
      "/home/javiferfer/anaconda3/lib/python3.9/site-packages/seaborn/distributions.py:2619: FutureWarning: `distplot` is a deprecated function and will be removed in a future version. Please adapt your code to use either `displot` (a figure-level function with similar flexibility) or `histplot` (an axes-level function for histograms).\n",
      "  warnings.warn(msg, FutureWarning)\n",
      "/home/javiferfer/anaconda3/lib/python3.9/site-packages/seaborn/distributions.py:2619: FutureWarning: `distplot` is a deprecated function and will be removed in a future version. Please adapt your code to use either `displot` (a figure-level function with similar flexibility) or `histplot` (an axes-level function for histograms).\n",
      "  warnings.warn(msg, FutureWarning)\n"
     ]
    },
    {
     "data": {
      "text/plain": [
       "<matplotlib.legend.Legend at 0x7f75bfedeaf0>"
      ]
     },
     "execution_count": 19,
     "metadata": {},
     "output_type": "execute_result"
    },
    {
     "data": {
      "image/png": "[encoded data removed]",
      "text/plain": [
       "<Figure size 640x480 with 1 Axes>"
      ]
     },
     "metadata": {},
     "output_type": "display_data"
    }
   ],
   "source": [
    "column_audio = 'Content quality (audio-only)'\n",
    "column_system = 'Content quality (video+audio)'\n",
    "\n",
    "print(stats.ttest_ind(df[column_audio].values, df[column_system].values, equal_var=False))\n",
    "print(f\"{df[column_audio].mean():.2f} ± {df[column_audio].std():.2f}\")\n",
    "print(f\"{df[column_system].mean():.2f} ± {df[column_system].std():.2f}\")\n",
    "\n",
    "plt.figure()\n",
    "sns.distplot(df[column_audio], label='Audio only')\n",
    "sns.distplot(df[column_system], label='Proposed system')\n",
    "plt.legend()"
   ]
  },
  {
   "cell_type": "markdown",
   "metadata": {},
   "source": [
    "13: 'Audio quality (audio-only)'\n",
    "\n",
    "14: 'Audio quality (video+audio)'"
   ]
  },
  {
   "cell_type": "code",
   "execution_count": 20,
   "metadata": {},
   "outputs": [
    {
     "name": "stdout",
     "output_type": "stream",
     "text": [
      "Ttest_indResult(statistic=2.378603373977088, pvalue=0.030189931793149532)\n",
      "7.44 ± 2.24\n",
      "4.89 ± 2.32\n"
     ]
    },
    {
     "name": "stderr",
     "output_type": "stream",
     "text": [
      "/home/javiferfer/anaconda3/lib/python3.9/site-packages/seaborn/distributions.py:2619: FutureWarning: `distplot` is a deprecated function and will be removed in a future version. Please adapt your code to use either `displot` (a figure-level function with similar flexibility) or `histplot` (an axes-level function for histograms).\n",
      "  warnings.warn(msg, FutureWarning)\n",
      "/home/javiferfer/anaconda3/lib/python3.9/site-packages/seaborn/distributions.py:2619: FutureWarning: `distplot` is a deprecated function and will be removed in a future version. Please adapt your code to use either `displot` (a figure-level function with similar flexibility) or `histplot` (an axes-level function for histograms).\n",
      "  warnings.warn(msg, FutureWarning)\n"
     ]
    },
    {
     "data": {
      "text/plain": [
       "<matplotlib.legend.Legend at 0x7f75bf052940>"
      ]
     },
     "execution_count": 20,
     "metadata": {},
     "output_type": "execute_result"
    },
    {
     "data": {
      "image/png": "[encoded data removed]",
      "text/plain": [
       "<Figure size 640x480 with 1 Axes>"
      ]
     },
     "metadata": {},
     "output_type": "display_data"
    }
   ],
   "source": [
    "column_audio = 'Audio quality (audio-only)'\n",
    "column_system = 'Audio quality (video+audio)'\n",
    "\n",
    "print(stats.ttest_ind(df[column_audio].values, df[column_system].values, equal_var=False))\n",
    "print(f\"{df[column_audio].mean():.2f} ± {df[column_audio].std():.2f}\")\n",
    "print(f\"{df[column_system].mean():.2f} ± {df[column_system].std():.2f}\")\n",
    "\n",
    "plt.figure()\n",
    "sns.distplot(df[column_audio], label='Audio only')\n",
    "sns.distplot(df[column_system], label='Proposed system')\n",
    "plt.legend()"
   ]
  },
  {
   "cell_type": "markdown",
   "metadata": {},
   "source": [
    "18: 'Audio-Only Overall Rating'\n",
    "\n",
    "19: 'Video+Audio Overall Rating'"
   ]
  },
  {
   "cell_type": "code",
   "execution_count": 21,
   "metadata": {},
   "outputs": [
    {
     "name": "stdout",
     "output_type": "stream",
     "text": [
      "Ttest_indResult(statistic=1.8856180831641265, pvalue=0.07968413415019932)\n",
      "7.33 ± 1.22\n",
      "6.00 ± 1.73\n"
     ]
    },
    {
     "name": "stderr",
     "output_type": "stream",
     "text": [
      "/home/javiferfer/anaconda3/lib/python3.9/site-packages/seaborn/distributions.py:2619: FutureWarning: `distplot` is a deprecated function and will be removed in a future version. Please adapt your code to use either `displot` (a figure-level function with similar flexibility) or `histplot` (an axes-level function for histograms).\n",
      "  warnings.warn(msg, FutureWarning)\n",
      "/home/javiferfer/anaconda3/lib/python3.9/site-packages/seaborn/distributions.py:2619: FutureWarning: `distplot` is a deprecated function and will be removed in a future version. Please adapt your code to use either `displot` (a figure-level function with similar flexibility) or `histplot` (an axes-level function for histograms).\n",
      "  warnings.warn(msg, FutureWarning)\n"
     ]
    },
    {
     "data": {
      "text/plain": [
       "<matplotlib.legend.Legend at 0x7f75bf052d30>"
      ]
     },
     "execution_count": 21,
     "metadata": {},
     "output_type": "execute_result"
    },
    {
     "data": {
      "image/png": "[encoded data removed]",
      "text/plain": [
       "<Figure size 640x480 with 1 Axes>"
      ]
     },
     "metadata": {},
     "output_type": "display_data"
    }
   ],
   "source": [
    "column_audio = 'Audio-Only Overall Rating'\n",
    "column_system = 'Video+Audio Overall Rating'\n",
    "\n",
    "print(stats.ttest_ind(df[column_audio].values, df[column_system].values, equal_var=False))\n",
    "print(f\"{df[column_audio].mean():.2f} ± {df[column_audio].std():.2f}\")\n",
    "print(f\"{df[column_system].mean():.2f} ± {df[column_system].std():.2f}\")\n",
    "\n",
    "plt.figure()\n",
    "sns.distplot(df[column_audio], label='Audio only')\n",
    "sns.distplot(df[column_system], label='Proposed system')\n",
    "plt.legend()"
   ]
  },
  {
   "cell_type": "code",
   "execution_count": null,
   "metadata": {},
   "outputs": [],
   "source": []
  }
 ],
 "metadata": {
  "kernelspec": {
   "display_name": "Python 3 (ipykernel)",
   "language": "python",
   "name": "python3"
  },
  "language_info": {
   "codemirror_mode": {
    "name": "ipython",
    "version": 3
   },
   "file_extension": ".py",
   "mimetype": "text/x-python",
   "name": "python",
   "nbconvert_exporter": "python",
   "pygments_lexer": "ipython3",
   "version": "3.9.13"
  }
 },
 "nbformat": 4,
 "nbformat_minor": 2
}
