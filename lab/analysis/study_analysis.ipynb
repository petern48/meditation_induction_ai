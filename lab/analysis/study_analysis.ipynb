{
 "cells": [
  {
   "cell_type": "code",
   "execution_count": null,
   "metadata": {},
   "outputs": [],
   "source": [
    "# !pip install matplotlib\n",
    "# !pip install pandas\n",
    "# !pip install openpyxl  # for read_excel to work"
   ]
  },
  {
   "cell_type": "code",
   "execution_count": 1,
   "metadata": {},
   "outputs": [],
   "source": [
    "import pandas as pd"
   ]
  },
  {
   "cell_type": "code",
   "execution_count": 31,
   "metadata": {},
   "outputs": [],
   "source": [
    "# The keys are indexes for the columns\n",
    "RENAMED_QUESTIONS = {\n",
    "    2:'Gender',\n",
    "    3:'Experience with Meditation',\n",
    "    4:'Ordering',\n",
    "    # col 5 is dropped\n",
    "    6:'Context',\n",
    "    # col 7 is dropped\n",
    "    8:'Context',\n",
    "    # col 9 is dropped\n",
    "    # col 10 is dropped\n",
    "    11:'Content quality (audio-only)',\n",
    "    12:'Content quality (video+audio)',\n",
    "    13:'Audio quality (audio-only)',\n",
    "    14:'Audio quality (video+audio)',\n",
    "    15:'Music Added to Experience',\n",
    "    16:'Visuals Matched with Audio',\n",
    "    17:'Visuals Added to Experience',\n",
    "    18:'Audio-Only Overall Rating',\n",
    "    19:'Video+Audio Overall Rating',\n",
    "    20:'Which more Personalized',\n",
    "    21:'Would meditate more if more personalized',\n",
    "    22:'Would try other Meditation Types',\n",
    "    23:'Would Color Scheme be better',\n",
    "}\n",
    "\n"
   ]
  },
  {
   "cell_type": "code",
   "execution_count": 62,
   "metadata": {},
   "outputs": [],
   "source": [
    "DATA_FILE_PATH = 'meditation-study-responses.xlsx'\n",
    "\n",
    "df = pd.read_excel(DATA_FILE_PATH)  # , engine='openpyxl'  # Add this if not working"
   ]
  },
  {
   "cell_type": "code",
   "execution_count": 63,
   "metadata": {},
   "outputs": [],
   "source": [
    "# Rename the columns\n",
    "for key in RENAMED_QUESTIONS.keys():\n",
    "    df.columns.values[key] = RENAMED_QUESTIONS[key]"
   ]
  },
  {
   "cell_type": "code",
   "execution_count": 41,
   "metadata": {},
   "outputs": [],
   "source": [
    "# Delete the unnecessary columns\n",
    "COLUMN_INDEXES_TO_DROP = df.columns[[0,1,5,7,9,10,24,25]]\n",
    "df = df.drop(COLUMN_INDEXES_TO_DROP, axis=1)"
   ]
  },
  {
   "cell_type": "code",
   "execution_count": null,
   "metadata": {},
   "outputs": [],
   "source": [
    "print(df)"
   ]
  },
  {
   "cell_type": "code",
   "execution_count": null,
   "metadata": {},
   "outputs": [],
   "source": [
    "# TODO\n",
    "# Combine 'Context' columns 6 and 8\n",
    "\n",
    "# Rename the answers: Change \"Option 1\" -> Audio-Only First. Option 2 -> Video+Audio first\n",
    "# Replace the phrase answers for context to a single name (e.g stressed, sad, sleepy)\n",
    "# df[['Context', 'Context']].agg(axis=1)\n",
    "# pd.concat([df['Context'].dropna(), df['Context'].dropna()])\n"
   ]
  }
 ],
 "metadata": {
  "kernelspec": {
   "display_name": "med_ai",
   "language": "python",
   "name": "python3"
  },
  "language_info": {
   "codemirror_mode": {
    "name": "ipython",
    "version": 3
   },
   "file_extension": ".py",
   "mimetype": "text/x-python",
   "name": "python",
   "nbconvert_exporter": "python",
   "pygments_lexer": "ipython3",
   "version": "3.10.0"
  }
 },
 "nbformat": 4,
 "nbformat_minor": 2
}
