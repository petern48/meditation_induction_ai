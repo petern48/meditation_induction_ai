{
 "cells": [
  {
   "cell_type": "code",
   "execution_count": 1,
   "metadata": {
    "id": "-RHV94XWm3yJ"
   },
   "outputs": [],
   "source": [
    "# !pip install -q accelerate==0.21.0 transformers==4.31.0 xformers bitsandbytes==0.40.2  # peft==0.4.0\n",
    "# !pip install einops  # for falcon model\n",
    "# !pip install torch"
   ]
  },
  {
   "cell_type": "code",
   "execution_count": 2,
   "metadata": {
    "id": "RICmsfeynOEx"
   },
   "outputs": [],
   "source": [
    "from transformers import AutoModelForCausalLM, AutoTokenizer, pipeline, logging, BitsAndBytesConfig\n",
    "import torch, re\n",
    "\n",
    "logging.set_verbosity(logging.CRITICAL)"
   ]
  },
  {
   "cell_type": "code",
   "execution_count": 3,
   "metadata": {},
   "outputs": [
    {
     "name": "stdout",
     "output_type": "stream",
     "text": [
      "{'': 0}\n"
     ]
    }
   ],
   "source": [
    "llama2 = 'NousResearch/Llama-2-7b-chat-hf'\n",
    "falcon7b = 'tiiuae/falcon-7b-instruct'\n",
    "\n",
    "# Load the entire model on the GPU 0\n",
    "DEVICE = {\"\": 0}  # or try 'auto'\n",
    "print(DEVICE)"
   ]
  },
  {
   "cell_type": "code",
   "execution_count": 4,
   "metadata": {},
   "outputs": [],
   "source": [
    "def load_model(model_name):\n",
    "    # NOTE: BitsAndBytesConfig might be unnecessary. I used it as an attempt to get falcon to load in colab.\n",
    "    bnb_config = BitsAndBytesConfig(\n",
    "        load_in_4bit=True,\n",
    "        bnb_4bit_compute_dtype=torch.float16,\n",
    "        bnb_4bit_quant_type=\"nf4\",\n",
    "        bnb_4bit_use_double_quant=True,\n",
    "    )\n",
    "\n",
    "    model = AutoModelForCausalLM.from_pretrained(\n",
    "        model_name,\n",
    "        low_cpu_mem_usage=True,  # Auto set to true when specifying device_map\n",
    "        return_dict=True,\n",
    "        torch_dtype=torch.float16,\n",
    "        device_map=DEVICE,  # device_map\n",
    "        trust_remote_code=True,\n",
    "        quantization_config=bnb_config\n",
    "        # load_in_4bit=True,  # unsure if this should maybe help with loading it\n",
    "    )\n",
    "\n",
    "    tokenizer = AutoTokenizer.from_pretrained(model_name, trust_remote_code=True)\n",
    "    tokenizer.pad_token = tokenizer.eos_token\n",
    "    tokenizer.padding_side = \"right\"\n",
    "    \n",
    "    return model, tokenizer\n",
    "\n",
    "    \n",
    "def predict_model(model, tokenizer, med_type, context):\n",
    "    # Run text generation pipeline with our next model\n",
    "    prompt = f\"Write me a {med_type} meditation script of about 200 words which {GOALS[med_type]}\"\n",
    "\n",
    "    if model_name == llama2:\n",
    "        tokenized_prompt = f\"\"\"<s>[INST] <<SYS>>\\n{context}\\n<</SYS>>\\n\\n{prompt} [/INST]\"\"\"\n",
    "    elif model_name == falcon7b:\n",
    "        # Do not have a stray space at end of it will mess with tokenization\n",
    "        tokenized_prompt = f\"\"\"### Instruction:\\n{prompt}\\n\\n### Context:\\n{context}\\n\\n### Response:\"\"\"\n",
    "    else:\n",
    "        raise Exception('Invalid model name')\n",
    "\n",
    "    encodeds = tokenizer(tokenized_prompt, return_tensors=\"pt\", add_special_tokens=False)\n",
    "    model_inputs = encodeds.to(\"cuda:0\")\n",
    "\n",
    "    generated_ids = model.generate(\n",
    "        **model_inputs,\n",
    "        max_new_tokens=32768,\n",
    "        top_p=0.95,  # Added. Seems to work!\n",
    "        top_k=1000,  # Added\n",
    "        do_sample=True)\n",
    "    # print('encoded\\n', generated_ids)\n",
    "    decoded = tokenizer.batch_decode(generated_ids, skip_special_tokens=True)\n",
    "    # print('Prompt: ', tokenized_prompt, '\\n')\n",
    "    output = decoded[0]\n",
    "    \n",
    "    # Extract the actual script (remove the prompt)\n",
    "    if model_name == llama2:\n",
    "        script = re.sub(r'[\\s\\S]*\\[/INST\\].*', '', output).lstrip()\n",
    "        # ^ Any char followed by [/INST] followed by any non-newline char (.*)\n",
    "        # The rest of the line usually says 'Great! Here's a meditation script that ...\n",
    "        print(f'### PROMPT:\\n{tokenized_prompt}\\n\\n')\n",
    "    else:  # model_name == falcon7b:\n",
    "        script = re.sub(r'.*### Response:', '', output)\n",
    "\n",
    "    # If response did not end in full sentence, remove the last substring that does not end in a period\n",
    "    last_period_idx = script.rfind('.')\n",
    "    if last_period_idx != -1:\n",
    "        script = script[:last_period_idx + 1]  # + 1 to keep the period\n",
    "\n",
    "    # print(output)\n",
    "    # print('\\n\\nSEPARATION')\n",
    "    print('Context:\\n', context, '\\n')\n",
    "    print('Transcript\\n', script)"
   ]
  },
  {
   "cell_type": "markdown",
   "metadata": {},
   "source": [
    "#### Setting parameters"
   ]
  },
  {
   "cell_type": "markdown",
   "metadata": {},
   "source": [
    "Change MED_TYPE to any key in the `goals` dictionary. If you'd like, you can add 'goals' as the values to incorporate into the prompt. You can also leave them empty and it should run fine.  \n",
    "Also you can set CONTEXT to a string that a user would provide to our LLM. There are already some commented examples."
   ]
  },
  {
   "cell_type": "code",
   "execution_count": 5,
   "metadata": {
    "id": "dGfHUg0hnZEJ"
   },
   "outputs": [],
   "source": [
    "GOALS = {\n",
    "    'mindful observation': 'emphasizes the practice of mindfully observing oneself in a state of stillness, which includes lying meditation, sitting in silence, and observing thoughts and emotions.',\n",
    "    'body-centered meditation': 'focuses on heightened awareness of the body, breath, and sensory perceptions, sometimes involving concentration on specific body locations or energy centers.',\n",
    "    'visual concentration': 'involves techniques like visualizations and concentration on visual objects to achieve a centered state of mind.',\n",
    "    'contemplation': 'encourages deep reflection on contradictions, paradoxes, or spiritual questions.',\n",
    "    'affect-centered meditation': 'encompasses practices that cultivate positive emotions such as compassion, loving-kindness, and equanimity.',\n",
    "    'mantra meditation': 'involves the repetitive use of syllables, words, or phrases, often with sounds and mantras, to facilitate meditation.',\n",
    "    'movement meditation': 'combines mindfulness with physical activity, including manipulating the breath, walking, and sensory observation.'\n",
    "}"
   ]
  },
  {
   "cell_type": "markdown",
   "metadata": {},
   "source": [
    "#### Model falcon7b"
   ]
  },
  {
   "cell_type": "code",
   "execution_count": 6,
   "metadata": {},
   "outputs": [
    {
     "name": "stderr",
     "output_type": "stream",
     "text": [
      "\n",
      "WARNING: You are currently loading Falcon using legacy code contained in the model repository. Falcon has now been fully ported into the Hugging Face transformers library. For the most up-to-date and high-performance version of the Falcon model code, please update to the latest version of transformers and then load the model without the trust_remote_code=True argument.\n",
      "\n"
     ]
    },
    {
     "data": {
      "application/vnd.jupyter.widget-view+json": {
       "model_id": "6f0eaf3913c5489191a19b7813875eab",
       "version_major": 2,
       "version_minor": 0
      },
      "text/plain": [
       "Loading checkpoint shards:   0%|          | 0/2 [00:00<?, ?it/s]"
      ]
     },
     "metadata": {},
     "output_type": "display_data"
    }
   ],
   "source": [
    "model_name = falcon7b\n",
    "model, tokenizer = load_model(model_name)"
   ]
  },
  {
   "cell_type": "code",
   "execution_count": 7,
   "metadata": {},
   "outputs": [
    {
     "name": "stdout",
     "output_type": "stream",
     "text": [
      "Context:\n",
      " I'm sad about losing a lost one. I need comfort\n",
      "Make sure the response ends with a complete sentence. \n",
      "\n",
      "Transcript\n",
      " ### Instruction:\n",
      "Write me a mindful observation meditation script of about 200 words which emphasizes the practice of mindfully observing oneself in a state of stillness, which includes lying meditation, sitting in silence, and observing thoughts and emotions.\n",
      "\n",
      "### Context:\n",
      "I'm sad about losing a lost one. I need comfort\n",
      "Make sure the response ends with a complete sentence.\n",
      "\n",
      "\n",
      "I'm sad about losing a loved one, and I need comfort. To bring me relief, I try to make myself mindful of the here and now and of my breath. As I focus on my breath, I watch my thoughts float by without attaching to them. There's a strange stillness in my mind, where I can almost feel emptiness and infinite space. If I become caught up in my thoughts, I let them pass without judgment and try to gently turn back to my breath. I find solace in the sense of presence and the acceptance of emptiness. The feeling of sadness doesn't take away the pain, but I can know that it's impermanent, and that helps ease my suffering. In the moment, I can observe myself and be still, grateful for the peaceful sensation. That this and all my ideas exist is a gift from life, and even this sadness is also a part of it. That's what I need to keep in mind, that everything is impermanent, and that all life is full of ups and downs. I practice mindful meditation to help me remember this and to be in gratitude for it.\n"
     ]
    }
   ],
   "source": [
    "med_type = 'mindful observation'\n",
    "\n",
    "context = \"I'm sad about losing a lost one. I need comfort\"  # Nice: I noticed llama did address the loss\n",
    "context += \"\\nMake sure the response ends with a complete sentence.\"\n",
    "\n",
    "predict_model(model, tokenizer, med_type, context)"
   ]
  },
  {
   "cell_type": "code",
   "execution_count": 8,
   "metadata": {},
   "outputs": [
    {
     "name": "stdout",
     "output_type": "stream",
     "text": [
      "Context:\n",
      " I'm sad about losing a lost one. I need comfort\n",
      "Make sure the response ends with a complete sentence. \n",
      "\n",
      "Transcript\n",
      " ### Instruction:\n",
      "Write me a body-centered meditation meditation script of about 200 words which focuses on heightened awareness of the body, breath, and sensory perceptions, sometimes involving concentration on specific body locations or energy centers.\n",
      "\n",
      "### Context:\n",
      "I'm sad about losing a lost one. I need comfort\n",
      "Make sure the response ends with a complete sentence.\n",
      "\n",
      "\n",
      "As I sit here thinking of you, I remember all the good times and the little ways you made my days a bit brighter. I allow the sadness to wash over me, feeling a connection to the warmth and comfort that I had while spent with you. I take a deep breath and reach for my breath, extending the love and comfort from you that your body brought into your life. As I inhale, I acknowledge the sadness in a way that honors you and I, the way your life did. The practice of breathing deeply and taking care of my body helps me find a sense of solace, embracing your comfort as it was.\n"
     ]
    }
   ],
   "source": [
    "med_type = 'body-centered meditation'\n",
    "\n",
    "context = \"I'm sad about losing a lost one. I need comfort\"  # Nice: I noticed llama did address the loss\n",
    "context += \"\\nMake sure the response ends with a complete sentence.\"\n",
    "\n",
    "predict_model(model, tokenizer, med_type, context)"
   ]
  },
  {
   "cell_type": "code",
   "execution_count": null,
   "metadata": {},
   "outputs": [],
   "source": []
  },
  {
   "cell_type": "markdown",
   "metadata": {},
   "source": [
    "#### Model llama2"
   ]
  },
  {
   "cell_type": "code",
   "execution_count": 6,
   "metadata": {},
   "outputs": [
    {
     "data": {
      "application/vnd.jupyter.widget-view+json": {
       "model_id": "e178d96a452c471bb5462f25f194ad7e",
       "version_major": 2,
       "version_minor": 0
      },
      "text/plain": [
       "Loading checkpoint shards:   0%|          | 0/2 [00:00<?, ?it/s]"
      ]
     },
     "metadata": {},
     "output_type": "display_data"
    }
   ],
   "source": [
    "model_name = llama2\n",
    "model, tokenizer = load_model(model_name)"
   ]
  },
  {
   "cell_type": "code",
   "execution_count": 7,
   "metadata": {},
   "outputs": [
    {
     "name": "stderr",
     "output_type": "stream",
     "text": [
      "/home/javiferfer/anaconda3/lib/python3.9/site-packages/transformers/generation/utils.py:1270: UserWarning: You have modified the pretrained model configuration to control generation. This is a deprecated strategy to control generation and will be removed soon, in a future version. Please use a generation configuration file (see https://huggingface.co/docs/transformers/main_classes/text_generation )\n",
      "  warnings.warn(\n"
     ]
    },
    {
     "name": "stdout",
     "output_type": "stream",
     "text": [
      "### PROMPT:\n",
      "<s>[INST] <<SYS>>\n",
      "I'm sad about losing a lost one. I need comfort\n",
      "Make sure the response ends with a complete sentence.\n",
      "<</SYS>>\n",
      "\n",
      "Write me a mindful observation meditation script of about 200 words which emphasizes the practice of mindfully observing oneself in a state of stillness, which includes lying meditation, sitting in silence, and observing thoughts and emotions. [/INST]\n",
      "\n",
      "\n",
      "Context:\n",
      " I'm sad about losing a lost one. I need comfort\n",
      "Make sure the response ends with a complete sentence. \n",
      "\n",
      "Transcript\n",
      " Find a comfortable seated position, either lying down or sitting in silence. Take a deep breath in through your nose, and exhale slowly out of your mouth. Allow your body to relax, letting go of any tension or discomfort.\n",
      "\n",
      "As you settle into stillness, bring your attention inward. Observe your breath, feeling the sensation of the air moving in and out of your body. Notice the rise and fall of your chest or belly, the gentle movement of your ribcage or the steady beat of your heart.\n",
      "\n",
      "Now, begin to observe your thoughts and emotions. Notice them as they arise, without judgment or attachment. Watch as they pass through your mind like clouds in the sky. Allow yourself to feel the emotions that arise, without trying to change or avoid them. Simply observe them with kindness and compassion.\n",
      "\n",
      "As you continue to practice mindful observation, you may notice patterns in your thoughts and emotions. Notice how they shift and change throughout the day, how they may be influenced by your environment, your interactions with others, or even your own thoughts and beliefs.\n",
      "\n",
      "Remember, the practice of mindful observation is not about trying to change or control your thoughts and emotions. It's about simply observing them with kindness and compassion, without judgment or attachment. By doing so, you may find a sense of peace and tranquility, even in the midst of challenging emotions or situations.\n",
      "\n",
      "Take a moment to reflect on the sensations in your body, the thoughts in your mind, and the emotions in your heart. Allow yourself to feel each one, without trying to change or avoid them. Simply observe them with kindness and compassion, and know that you are not alone in your experience.\n",
      "\n",
      "May you find comfort and peace in the practice of mindful observation, and may you carry this sense of stillness and peace with you throughout your day.\n"
     ]
    }
   ],
   "source": [
    "med_type = 'mindful observation'\n",
    "\n",
    "context = \"I'm sad about losing a lost one. I need comfort\"  # Nice: I noticed llama did address the loss\n",
    "context += \"\\nMake sure the response ends with a complete sentence.\"\n",
    "\n",
    "predict_model(model, tokenizer, med_type, context)"
   ]
  },
  {
   "cell_type": "code",
   "execution_count": 14,
   "metadata": {},
   "outputs": [
    {
     "name": "stdout",
     "output_type": "stream",
     "text": [
      "### PROMPT:\n",
      "<s>[INST] <<SYS>>\n",
      "I'm sad about losing a lost one. I need comfort\n",
      "Make sure the response ends with a complete sentence.\n",
      "<</SYS>>\n",
      "\n",
      "Write me a mindful observation meditation script of about 200 words which emphasizes the practice of mindfully observing oneself in a state of stillness, which includes lying meditation, sitting in silence, and observing thoughts and emotions. [/INST]\n",
      "\n",
      "\n",
      "Context:\n",
      " I'm sad about losing a lost one. I need comfort\n",
      "Make sure the response ends with a complete sentence. \n",
      "\n",
      "Transcript\n",
      " Find a quiet and comfortable place to sit or lie down. Close your eyes and take a few deep breaths. Feel the weight of your body on the surface, whether it's a cushion, a mattress, or a chair. Allow yourself to settle into stillness.\n",
      "\n",
      "Notice the sensation of your body, from the feet to the head. Notice the sensations of the seat beneath you, the feel of the air on your skin, the sound of your breath. Pay attention to the sensations without judgment, simply observing them as they are.\n",
      "\n",
      "Now, bring your attention to your thoughts and emotions. Notice how they arise and pass away, like waves in the ocean. Observe them without getting caught up in them, simply observing them as they are. See how they change, how they shift and move, like the tides.\n",
      "\n",
      "As you lie or sit in stillness, allow yourself to let go of any attachment to the thoughts and emotions that arise. Let them come and go, without holding onto them. Instead, focus on the stillness within you, the peace and calm that lies beneath the surface.\n",
      "\n",
      "Remember, you are not your thoughts and emotions. You are the observer, the one who can see them without getting caught up in them. Trust in this observation, and allow yourself to settle into a deeper sense of peace and calm.\n",
      "\n",
      "Take a few more deep breaths, and when you're ready, slowly open your eyes. Take a moment to notice how you feel, before getting up and going about your day. Remember to bring this practice of mindful observation into your daily life, whenever you need it.\n"
     ]
    }
   ],
   "source": [
    "med_type = 'mindful observation'\n",
    "\n",
    "context = \"I'm sad about losing a lost one. I need comfort\"  # Nice: I noticed llama did address the loss\n",
    "context += \"\\nMake sure the response ends with a complete sentence.\"\n",
    "\n",
    "predict_model(model, tokenizer, med_type, context)"
   ]
  },
  {
   "cell_type": "code",
   "execution_count": 8,
   "metadata": {},
   "outputs": [
    {
     "name": "stdout",
     "output_type": "stream",
     "text": [
      "### PROMPT:\n",
      "<s>[INST] <<SYS>>\n",
      "I'm sad about losing a lost one. I need comfort\n",
      "Make sure the response ends with a complete sentence.\n",
      "<</SYS>>\n",
      "\n",
      "Write me a body-centered meditation meditation script of about 200 words which focuses on heightened awareness of the body, breath, and sensory perceptions, sometimes involving concentration on specific body locations or energy centers. [/INST]\n",
      "\n",
      "\n",
      "Context:\n",
      " I'm sad about losing a lost one. I need comfort\n",
      "Make sure the response ends with a complete sentence. \n",
      "\n",
      "Transcript\n",
      " Find a comfortable seated position, either on a cushion on the floor or in a chair. Allow your body to settle into the support of the seat or the ground, and feel the weight of your body on the surface. Take a deep breath in through your nose, and exhale slowly through your mouth.\n",
      "\n",
      "Now, bring your attention to your breath, feeling the rise and fall of your chest or belly as you inhale and exhale. Allow your breath to become deeper and more relaxed as you continue to focus on it.\n",
      "\n",
      "As you continue to breathe, bring your attention to different parts of your body. Start at the crown of your head, and allow any tension or stress to release as you exhale. Notice how your body feels as you breathe, and allow any areas of tension to release as you continue to focus on your breath.\n",
      "\n",
      "Next, bring your attention to your shoulders, allowing them to relax and release any tension as you breathe. Notice how your shoulders feel as you breathe, and allow any areas of tension to release.\n",
      "\n",
      "Continue to bring your attention to different parts of your body, including your arms, hands, chest, belly, hips, legs, and feet. Allow any areas of tension to release as you focus on each location, and feel your body becoming more and more relaxed with each breath.\n",
      "\n",
      "As you continue to focus on your body, bring your attention to your energy centers, or chakras. Notice where each chakra is located in your body, and allow any areas of tension or congestion to release as you breathe. For example, you might focus on the base of your spine, or the center of your chest. Allow any areas of tension to release as you breathe, and feel your body becoming more and more relaxed and open.\n",
      "\n",
      "Take a few more deep breaths, and allow yourself to fully relax and let go of any tension or stress. Allow yourself to feel supported and cared for by the universe, and know that you are loved and deserving of comfort and peace.\n",
      "\n",
      "Remember, this is a safe space for you to process your emotions and find comfort. Allow yourself to feel whatever emotions arise, and know that it's okay to feel sad or upset. With each breath, allow yourself to release any tension or stress, and feel your body becoming more and more relaxed and open. Take a few more deep breaths, and when you're ready, slowly open your eyes and return to your day with a sense of peace and comfort.\n"
     ]
    }
   ],
   "source": [
    "med_type = 'body-centered meditation'\n",
    "\n",
    "context = \"I'm sad about losing a lost one. I need comfort\"  # Nice: I noticed llama did address the loss\n",
    "context += \"\\nMake sure the response ends with a complete sentence.\"\n",
    "\n",
    "predict_model(model, tokenizer, med_type, context)"
   ]
  },
  {
   "cell_type": "code",
   "execution_count": 9,
   "metadata": {},
   "outputs": [
    {
     "name": "stdout",
     "output_type": "stream",
     "text": [
      "### PROMPT:\n",
      "<s>[INST] <<SYS>>\n",
      "I'm sad about losing a lost one. I need comfort\n",
      "Make sure the response ends with a complete sentence.\n",
      "<</SYS>>\n",
      "\n",
      "Write me a visual concentration meditation script of about 200 words which involves techniques like visualizations and concentration on visual objects to achieve a centered state of mind. [/INST]\n",
      "\n",
      "\n",
      "Context:\n",
      " I'm sad about losing a lost one. I need comfort\n",
      "Make sure the response ends with a complete sentence. \n",
      "\n",
      "Transcript\n",
      " Find a quiet and comfortable place to sit, close your eyes, and take a few deep breaths. Feel the weight of your body sink into the seat, and let go of any tension in your body.\n",
      "\n",
      "Visualize a warm, comforting light filling your body, starting from the crown of your head and flowing down to your toes. As you inhale, visualize this light expanding and filling your body more, and as you exhale, visualize any sadness or grief leaving your body.\n",
      "\n",
      "Focus your attention on a single point, such as the tip of your nose or the center of your chest. Gently bring your attention back to this point whenever your mind wanders.\n",
      "\n",
      "Visualize a peaceful landscape, such as a serene beach or a green meadow, and imagine yourself walking through it. As you walk, feel the ground beneath your feet growing firmer and more solid, and the wind caressing your face, bringing a sense of calm and serenity.\n",
      "\n",
      "Notice any thoughts or emotions that arise, and observe them with kindness and compassion, without judgment. Let them pass by like clouds in the sky, and gently bring your attention back to your breath or the visualization.\n",
      "\n",
      "Now, visualize a bright, white light filling your entire body, and imagine yourself surrounded by love, comfort, and peace. As you inhale, visualize this light growing stronger and more radiant, and as you exhale, imagine any remaining sadness or grief melting away.\n",
      "\n",
      "Take a few more deep breaths, and when you're ready, slowly open your eyes, taking a moment to savor the feeling of calm and centeredness within yourself. Remember, you can return to this meditation whenever you need comfort and support.\n"
     ]
    }
   ],
   "source": [
    "med_type = 'visual concentration'\n",
    "\n",
    "context = \"I'm sad about losing a lost one. I need comfort\"  # Nice: I noticed llama did address the loss\n",
    "context += \"\\nMake sure the response ends with a complete sentence.\"\n",
    "\n",
    "predict_model(model, tokenizer, med_type, context)"
   ]
  },
  {
   "cell_type": "code",
   "execution_count": 10,
   "metadata": {},
   "outputs": [
    {
     "name": "stdout",
     "output_type": "stream",
     "text": [
      "### PROMPT:\n",
      "<s>[INST] <<SYS>>\n",
      "I'm sad about losing a lost one. I need comfort\n",
      "Make sure the response ends with a complete sentence.\n",
      "<</SYS>>\n",
      "\n",
      "Write me a contemplation meditation script of about 200 words which encourages deep reflection on contradictions, paradoxes, or spiritual questions. [/INST]\n",
      "\n",
      "\n",
      "Context:\n",
      " I'm sad about losing a lost one. I need comfort\n",
      "Make sure the response ends with a complete sentence. \n",
      "\n",
      "Transcript\n",
      " Take a deep breath in through your nose, and exhale slowly through your mouth. Allow your body to relax and let go of any tension. As you inhale, visualize a warm, comforting light filling your body.\n",
      "\n",
      "Losing someone we love can be a difficult and painful experience. It can leave us feeling lost, alone, and full of questions. But in this moment, let's embrace these contradictions and paradoxes. Let's acknowledge the dualities of life and death, and the mysteries of the universe.\n",
      "\n",
      "On one hand, we feel a deep sense of loss and sorrow. We mourn the absence of the person we loved, and the memories we shared. We may feel angry, confused, or helpless. But on the other hand, we can also find comfort in the memories we have, and the love we shared. We can find solace in the knowledge that our loved one is no longer suffering, and that they are at peace.\n",
      "\n",
      "As we reflect on these contradictions, let's also consider the spiritual questions that arise. What happens to our loved ones after they pass away? Is there an afterlife, or is their energy transferred to another realm? Do they continue to watch over us, or guide us from beyond? These questions may be difficult to answer, but they can also lead us to deeper understanding and healing.\n",
      "\n",
      "As we continue to breathe and reflect, allow yourself to embrace these contradictions and questions. Let go of any need to understand or explain the why's or how's of the situation. Instead, focus on the present moment, and the emotions that are arising. Allow yourself to feel whatever emotions arise, and let them pass without judgment.\n",
      "\n",
      "In this moment, may you find peace and comfort. May you feel the love and support of those around you, and the presence of your loved one in your heart. May you find strength and resilience in the face of adversity, and may you continue to grow and heal with each passing day.\n",
      "\n",
      "Take a few more deep breaths, and when you're ready, slowly open your eyes. Take a moment to notice how you're feeling, and then go about your day with an open heart and mind.\n"
     ]
    }
   ],
   "source": [
    "med_type = 'contemplation'\n",
    "\n",
    "context = \"I'm sad about losing a lost one. I need comfort\"  # Nice: I noticed llama did address the loss\n",
    "context += \"\\nMake sure the response ends with a complete sentence.\"\n",
    "\n",
    "predict_model(model, tokenizer, med_type, context)"
   ]
  },
  {
   "cell_type": "code",
   "execution_count": 11,
   "metadata": {},
   "outputs": [
    {
     "name": "stdout",
     "output_type": "stream",
     "text": [
      "### PROMPT:\n",
      "<s>[INST] <<SYS>>\n",
      "I'm sad about losing a lost one. I need comfort\n",
      "Make sure the response ends with a complete sentence.\n",
      "<</SYS>>\n",
      "\n",
      "Write me a affect-centered meditation meditation script of about 200 words which encompasses practices that cultivate positive emotions such as compassion, loving-kindness, and equanimity. [/INST]\n",
      "\n",
      "\n",
      "Context:\n",
      " I'm sad about losing a lost one. I need comfort\n",
      "Make sure the response ends with a complete sentence. \n",
      "\n",
      "Transcript\n",
      " Begin by taking a few deep breaths, focusing on the sensation of the breath moving in and out of your body. As you inhale, imagine you're taking in comfort and support, and as you exhale, imagine any sadness or pain leaving your body.\n",
      "\n",
      "Now, shift your attention to a feeling of compassion. Imagine yourself holding the person you lost in your heart, surrounded by a warm, gentle light. Visualize this light expanding to encompass not just the person you lost, but also yourself, your loved ones, and everyone else who is suffering. Feel a deep sense of empathy and understanding for all beings, and imagine this love and compassion spreading throughout your body.\n",
      "\n",
      "As you continue to breathe deeply, allow yourself to feel the full range of emotions. It's okay to feel sad, angry, or any other emotion that arises. Simultaneously, cultivate a sense of loving-kindness towards yourself and others. Send kind thoughts and wishes to those around you, and imagine yourself surrounded by a network of supportive, caring people.\n",
      "\n",
      "As you come to the end of your meditation, take a moment to reflect on the present moment. Notice how your body feels, and how your emotions have shifted. You may still feel sadness, but perhaps there's also a sense of calm, acceptance, or even peace. Know that these feelings are normal, and that it's okay to feel however you feel.\n",
      "\n",
      "Take one final deep breath, and when you're ready, slowly open your eyes. Remember that you're not alone, and that you can always reach out to loved ones or a meditation community for support. Take care of yourself, and know that time can heal wounds, but also that you can cultivate greater resilience and inner peace through meditation and self-care.\n"
     ]
    }
   ],
   "source": [
    "med_type = 'affect-centered meditation'\n",
    "\n",
    "context = \"I'm sad about losing a lost one. I need comfort\"  # Nice: I noticed llama did address the loss\n",
    "context += \"\\nMake sure the response ends with a complete sentence.\"\n",
    "\n",
    "predict_model(model, tokenizer, med_type, context)"
   ]
  },
  {
   "cell_type": "code",
   "execution_count": 12,
   "metadata": {},
   "outputs": [
    {
     "name": "stdout",
     "output_type": "stream",
     "text": [
      "### PROMPT:\n",
      "<s>[INST] <<SYS>>\n",
      "I'm sad about losing a lost one. I need comfort\n",
      "Make sure the response ends with a complete sentence.\n",
      "<</SYS>>\n",
      "\n",
      "Write me a mantra meditation meditation script of about 200 words which involves the repetitive use of syllables, words, or phrases, often with sounds and mantras, to facilitate meditation. [/INST]\n",
      "\n",
      "\n",
      "Context:\n",
      " I'm sad about losing a lost one. I need comfort\n",
      "Make sure the response ends with a complete sentence. \n",
      "\n",
      "Transcript\n",
      " Find a quiet and comfortable place to sit, close your eyes, and take a few deep breaths. Allow your body to relax and let go of any tension.\n",
      "\n",
      "Repeat the following phrases to yourself, focusing on each one for a few breaths before moving on to the next:\n",
      "\n",
      "May peace be with you\n",
      "May love surround you\n",
      "May the light of memory guide you\n",
      "May you find comfort in the present\n",
      "\n",
      "As you repeat these phrases, focus on the sounds and sensations of each one. Allow the words to become like a soothing melody, carrying your sadness and grief away with each repetition.\n",
      "\n",
      "May you find solace in the beauty of the present moment. May the love of those who came before you hold you close and guide you through this difficult time. May you find peace in the knowledge that they will always be with you in spirit, and that their memory will live on in your heart.\n",
      "\n",
      "Take a few more deep breaths and allow yourself to fully relax, knowing that you are not alone in your grief. Sink deeper into the present moment, and allow the comfort of these words to penetrate your soul.\n",
      "\n",
      "Remember, you are loved and you are not alone. May the peace and love of those around you fill your heart and bring you strength during this challenging time.\n",
      "\n",
      "Take a few more breaths and slowly open your eyes when you are ready to return to the present moment.\n"
     ]
    }
   ],
   "source": [
    "med_type = 'mantra meditation'\n",
    "\n",
    "context = \"I'm sad about losing a lost one. I need comfort\"  # Nice: I noticed llama did address the loss\n",
    "context += \"\\nMake sure the response ends with a complete sentence.\"\n",
    "\n",
    "predict_model(model, tokenizer, med_type, context)"
   ]
  },
  {
   "cell_type": "code",
   "execution_count": 13,
   "metadata": {},
   "outputs": [
    {
     "name": "stdout",
     "output_type": "stream",
     "text": [
      "### PROMPT:\n",
      "<s>[INST] <<SYS>>\n",
      "I'm sad about losing a lost one. I need comfort\n",
      "Make sure the response ends with a complete sentence.\n",
      "<</SYS>>\n",
      "\n",
      "Write me a movement meditation meditation script of about 200 words which combines mindfulness with physical activity, including manipulating the breath, walking, and sensory observation. [/INST]\n",
      "\n",
      "\n",
      "Context:\n",
      " I'm sad about losing a lost one. I need comfort\n",
      "Make sure the response ends with a complete sentence. \n",
      "\n",
      "Transcript\n",
      " Begin by finding a comfortable seated position, either on a cushion on the floor or in a chair. Take a few deep breaths and close your eyes. As you exhale, allow your body to release any tension or sadness.\n",
      "\n",
      "Next, bring your attention to your breath. Focus on the sensation of the breath moving in and out of your body. Notice the sensation of the breath in your nostrils, the rise and fall of your chest or belly, and the way your body moves with each breath.\n",
      "\n",
      "Now, begin to manipulate your breath. Take a slow, deep breath in through your nose, and exhale slowly through your mouth. Repeat this process a few times, noticing how your body responds to the different breath patterns.\n",
      "\n",
      "As you continue to breathe deeply, bring your attention to your body. Notice any areas of tension or discomfort. Allow your body to release any remaining tension as you breathe out.\n",
      "\n",
      "Next, bring your attention to your walking. Take a few steps to the left, and then a few steps to the right. As you walk, focus on the sensation of your feet touching the ground. Notice the sensation of your body moving through space.\n",
      "\n",
      "Now, bring your attention to your senses. Notice the sensation of the air on your skin, the sound of your breath, and the feeling of your body moving. Take a few moments to observe these sensations without judgment or attachment.\n",
      "\n",
      "As you continue to move and observe your senses, allow yourself to feel whatever emotions arise. It's okay to feel sad, angry, or any other emotion. Allow yourself to feel whatever arises without judgment.\n",
      "\n",
      "Finally, take a few moments to reflect on the person you lost. Allow yourself to feel any emotions that arise, and acknowledge the pain of their loss. However, also allow yourself to see the beauty in their life and the memories you shared together.\n",
      "\n",
      "Take a few deep breaths and slowly open your eyes. Take a moment to notice how you feel before slowly returning to your day.\n",
      "\n",
      "Remember, grief is a process and it's okay to take your time. Allow yourself to feel whatever emotions arise, and practice self-compassion as you move through this difficult time.\n"
     ]
    }
   ],
   "source": [
    "med_type = 'movement meditation'\n",
    "\n",
    "context = \"I'm sad about losing a lost one. I need comfort\"  # Nice: I noticed llama did address the loss\n",
    "context += \"\\nMake sure the response ends with a complete sentence.\"\n",
    "\n",
    "predict_model(model, tokenizer, med_type, context)"
   ]
  },
  {
   "cell_type": "code",
   "execution_count": null,
   "metadata": {},
   "outputs": [],
   "source": []
  }
 ],
 "metadata": {
  "accelerator": "GPU",
  "colab": {
   "gpuType": "T4",
   "provenance": []
  },
  "kernelspec": {
   "display_name": "Python 3 (ipykernel)",
   "language": "python",
   "name": "python3"
  },
  "language_info": {
   "codemirror_mode": {
    "name": "ipython",
    "version": 3
   },
   "file_extension": ".py",
   "mimetype": "text/x-python",
   "name": "python",
   "nbconvert_exporter": "python",
   "pygments_lexer": "ipython3",
   "version": "3.9.13"
  }
 },
 "nbformat": 4,
 "nbformat_minor": 1
}
